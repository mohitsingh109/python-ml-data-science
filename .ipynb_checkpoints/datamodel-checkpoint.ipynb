{
 "cells": [
  {
   "cell_type": "markdown",
   "id": "e174f2be-111d-4814-a0b9-4bcaeeaf1624",
   "metadata": {},
   "source": [
    "# Introduction to Data Modeling"
   ]
  },
  {
   "cell_type": "code",
   "execution_count": 1,
   "id": "000b4d84-a2d7-41e4-93bd-30f4da9b0ec5",
   "metadata": {},
   "outputs": [],
   "source": [
    "# CRUD\n",
    "# Create --> Data Insert, New table\n",
    "# Read --> Table it should be well structured with normalization (3NF) (Join) (Fast)\n",
    "# Update --> Tabel Schema (Add, Remove column) , Record update\n",
    "# User (Id, Name, ...) Order(Id, Product, ..., U_Name)\n",
    "# Delete --> Record delete"
   ]
  },
  {
   "cell_type": "raw",
   "id": "c96a2220-cf0b-48a4-ac7e-9b72e044a788",
   "metadata": {},
   "source": [
    "# Three Level of DM\n",
    "1) Conceptual Model --> entity(Table name) and it's relation\n",
    "2) Logical Model    --> fields, keys\n",
    "3) Physical Model   --> SQL query"
   ]
  },
  {
   "cell_type": "markdown",
   "id": "5e8442e7-1c25-41ec-9643-3fe349e79175",
   "metadata": {},
   "source": [
    "# Online BookStore"
   ]
  },
  {
   "cell_type": "raw",
   "id": "09f633d8-adad-4f94-a2e7-4d5c68a05be3",
   "metadata": {},
   "source": [
    "# Conceptual Model\n",
    "Entites: [Book, Author, Customer]\n",
    "Relationship: [Author write a book, Customer buy book]"
   ]
  },
  {
   "cell_type": "raw",
   "id": "f73ca9a1-5fbf-498d-a409-ebddeb8835f5",
   "metadata": {},
   "source": [
    "# Logial Model\n",
    "Book(id, title, author_id)\n",
    "Author(id, name)\n",
    "Customer(id, name, email)"
   ]
  },
  {
   "cell_type": "raw",
   "id": "00519ee9-192c-4348-8e2f-df9e14c8aa10",
   "metadata": {},
   "source": [
    "# Physical Model\n",
    "CREATE TABLE CMD ...."
   ]
  },
  {
   "cell_type": "markdown",
   "id": "f5f599e8-471a-45f6-92b3-bc505f0cc285",
   "metadata": {},
   "source": [
    "# Conceptual Data Model"
   ]
  },
  {
   "cell_type": "raw",
   "id": "bd7f714b-6a12-435b-92fc-123044ce8454",
   "metadata": {},
   "source": [
    "# CDM (High level representation of the data and it's relation)\n",
    "# Key Component\n",
    "- entity\n",
    "- relationship\n",
    "\n",
    "Q.\n",
    "- Online Shopping System\n",
    "- Online Food Delivery System"
   ]
  },
  {
   "cell_type": "markdown",
   "id": "fba256f8-5720-4070-87c8-18ad092a22ac",
   "metadata": {},
   "source": [
    "# Logial Data Model"
   ]
  },
  {
   "cell_type": "raw",
   "id": "88255311-ada8-4443-8ea1-6cdb252a9939",
   "metadata": {},
   "source": [
    "# LDM (developer add more detailed information like fields name and keys)\n",
    "# key component\n",
    "- entity\n",
    "- attributes(column)\n",
    "- pk\n",
    "- fk\n",
    "- relationship (it's same ad pk & fk)\n",
    "\n",
    "# This is the face where our ER diagran is created"
   ]
  },
  {
   "cell_type": "markdown",
   "id": "7b682591-19ba-4514-99f9-f738b527c9ba",
   "metadata": {},
   "source": [
    "# Physical Data Model"
   ]
  },
  {
   "cell_type": "raw",
   "id": "4a2c7d96-79b0-428f-ad4d-e8f219e99699",
   "metadata": {},
   "source": [
    "# We define the table cmd based of the database and provide all the constraints\n",
    "\n",
    "CREATE TABLE BOOK (\n",
    "    ID SERIAL PRIMARY KEY,\n",
    "    TITLE VARCHAR(200) NOT NULL,\n",
    "    AUTHOR_ID VARCHAR(100) UNIQUE\n",
    ");"
   ]
  },
  {
   "cell_type": "markdown",
   "id": "eb0ae7d5-e5df-45d1-a351-31255b8b4330",
   "metadata": {},
   "source": [
    "# Normalization\n",
    "SQL: Normalization Table\n",
    "\n",
    "\n",
    "NoSQL: D-Normalization Table"
   ]
  },
  {
   "cell_type": "raw",
   "id": "d1de75e6-27c4-4a06-9397-aafd67189e4f",
   "metadata": {},
   "source": [
    "No Normalization Table\n",
    "# 0 - NF\n",
    "ORDER\n",
    "\n",
    "ID   Customer_Name  Products\n",
    "1    Mohit          Book,Pen,Paper,Rubber\n",
    "\n",
    "SELECT * FROM ORDER WHERE Products ILIKE '%Rubber%'; -- slow"
   ]
  },
  {
   "cell_type": "raw",
   "id": "d623a1e9-fff5-4b27-97c9-ebd863fc670c",
   "metadata": {},
   "source": [
    "# 1 - NF\n",
    "ID   Customer_Name  Product\n",
    "1    Mohit          Book\n",
    "1    Mohit          Pen\n",
    "1    Mohit          Paper\n",
    "1    Mohit          Rubber\n",
    "\n",
    "select * from ORDER WHERE Product = 'Rubber'; - fast"
   ]
  },
  {
   "cell_type": "code",
   "execution_count": 3,
   "id": "8209f46a-b9e1-491e-8e7e-d59ffc6d5df0",
   "metadata": {},
   "outputs": [],
   "source": [
    "# Normalization VS DNormalization\n",
    "# Normalization - Update is easy & No Duplicate Record & Easy To Delete, Slow in query(More Join)\n",
    "# DNormalization - Fast (No Joins, Less Join), Duplicate Records, Update is difficuly becasue of duplicate data"
   ]
  },
  {
   "cell_type": "raw",
   "id": "6b1e335b-6ea3-4f74-8bd7-07d111201c33",
   "metadata": {},
   "source": [
    "# Normalization Table\n",
    "0 - NF (Unnormalized form)\n",
    "\n",
    "EmpNo    Name     Projects    Salary\n",
    "1        Mohit    P1, P2      50000\n",
    "2        Jhon     P1          40000\n",
    "3        Alice    P2,P3,P4    80000\n",
    "\n",
    "Problems: \n",
    "1: Projects field is not atomic value (insert, query, update, delete)\n",
    "3: Redudency of Project name as it's stored as plain text\n"
   ]
  },
  {
   "cell_type": "raw",
   "id": "73f5bb0e-12ce-49e7-a57a-742ba96a3a5e",
   "metadata": {},
   "source": [
    "1 - NF (First normalized form)\n",
    "Rule: All Column should have atomic value (single value)\n",
    "\n",
    "EmpNo    Name     Projects    Salary\n",
    "1        Mohit    P1          50000\n",
    "1        Mohit    P2          50000\n",
    "2        Jhon     P1          40000\n",
    "3        Alice    P2          80000\n",
    "3        Alice    P3          80000\n",
    "3        Alice    P4          80000\n",
    "\n",
    "CREATE TABLE Employee_Projects(\n",
    "    EmpNo INT,\n",
    "    Name String,\n",
    "    Project String\n",
    "    Salary NUMERIC\n",
    ");"
   ]
  },
  {
   "cell_type": "raw",
   "id": "63aa7ebd-f907-4a8c-b6d3-a8671d3e8334",
   "metadata": {},
   "source": [
    "2 - NF (Second normalized form)\n",
    "\n",
    "Rule: 1NF + Column that making the data duplicate extrct it from the table to another table\n",
    "# Non-Prime attr must depedne ton the primary key not just part of it.\n",
    "\n",
    "Employee Table:\n",
    "EmpNo    Name           Salary\n",
    "1        Mohit           50000\n",
    "2        Jhon            40000\n",
    "3        Alice           80000\n",
    "\n",
    "EmployeeProjects Table:\n",
    "EmpNo    Project Name\n",
    "1        Web design\n",
    "1        Mobile App\n",
    "2        Web design\n",
    "3        Web design\n",
    "3        Data Analyst\n",
    "3        Ai Model\n",
    "\n",
    "CREATE TABLE Employee(\n",
    "    EmpNo SERIAL PRIMARY KEY,\n",
    "    Name String,\n",
    "    Salary NUMERIC\n",
    ");\n",
    "\n",
    "CREATE TABLE Employee_Projects(\n",
    "    EmpNo INT REFFERENCES Employee(EmpNo),\n",
    "    Project_Name String\n",
    ");"
   ]
  },
  {
   "cell_type": "raw",
   "id": "6953c246-05f2-49d6-81fe-316e223f37fe",
   "metadata": {},
   "source": [
    "# 3 - NF (Third normalized form)\n",
    "\n",
    "# Rule: 2 NF + Key should not map with non key column\n",
    "\n",
    "Employee Table:\n",
    "EmpNo    Name           Salary\n",
    "1        Mohit           50000\n",
    "2        Jhon            40000\n",
    "3        Alice           80000\n",
    "4        Karan           40000\n",
    "\n",
    "Project\n",
    "ID      Project_Name\n",
    "1       Web Design\n",
    "2       Mobile App\n",
    "3       Data Analyst\n",
    "4       AI Model\n",
    "5       ML\n",
    "\n",
    "EmployeeProjects Table:\n",
    "EmpNo    Project_ID\n",
    "1        1\n",
    "1        2\n",
    "2        1\n",
    "3        1\n",
    "3        3\n",
    "3        4\n",
    "3        5\n",
    "\n",
    "CREATE TABLE Employee(\n",
    "    EmpNo SERIAL PRIMARY KEY,\n",
    "    Name String,\n",
    "    Salary NUMERIC\n",
    ");\n",
    "\n",
    "CREATE TABLE Project(\n",
    "    ID SERIAL PRIMARY KEY,\n",
    "    Project_Name String,\n",
    ");\n",
    "\n",
    "CREATE TABLE Employee_Projects(\n",
    "    EmpNo INT REFERENCES Employee(EmpNo),\n",
    "    Project_Id INT REFERENCES Project(ID)\n",
    ");\n",
    "\n",
    "# BCNF - 4NF - 5 NF - DKNF"
   ]
  },
  {
   "cell_type": "code",
   "execution_count": null,
   "id": "06c170e9-99c8-482f-9040-a3e05ae428b9",
   "metadata": {},
   "outputs": [],
   "source": []
  }
 ],
 "metadata": {
  "kernelspec": {
   "display_name": "Python 3 (ipykernel)",
   "language": "python",
   "name": "python3"
  },
  "language_info": {
   "codemirror_mode": {
    "name": "ipython",
    "version": 3
   },
   "file_extension": ".py",
   "mimetype": "text/x-python",
   "name": "python",
   "nbconvert_exporter": "python",
   "pygments_lexer": "ipython3",
   "version": "3.12.7"
  }
 },
 "nbformat": 4,
 "nbformat_minor": 5
}
