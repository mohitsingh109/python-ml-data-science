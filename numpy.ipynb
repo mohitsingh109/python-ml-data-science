{
 "cells": [
  {
   "cell_type": "markdown",
   "id": "c5a7e9e1-4ebe-4c62-bc5a-8575fe08c26e",
   "metadata": {},
   "source": [
    "# Numpy"
   ]
  },
  {
   "cell_type": "markdown",
   "id": "2ce565f2-de6b-480b-8f67-b5115ea8dbc5",
   "metadata": {},
   "source": [
    "# Numerical Python designed for numerical operation"
   ]
  },
  {
   "cell_type": "markdown",
   "id": "11f1d350-69b4-48d2-9309-314b6a8a67f7",
   "metadata": {},
   "source": [
    "- N - dimensionl Array\n",
    "- Math Operation\n",
    "- Broadcasting\n",
    "- Integrate with other liberary (pandas, Matploib, TensorFLow)\n",
    "- Effciency (Written in C language)\n",
    "- Memory Efficiency"
   ]
  },
  {
   "cell_type": "markdown",
   "id": "963a1f1b-d467-4898-b60e-320951e17fb1",
   "metadata": {},
   "source": [
    "# pip install numpy"
   ]
  },
  {
   "cell_type": "code",
   "execution_count": 2,
   "id": "2fc42101-b329-433c-b0d7-86ad2b5a43e1",
   "metadata": {},
   "outputs": [],
   "source": [
    "import numpy as np #(Shift + Enter)"
   ]
  },
  {
   "cell_type": "code",
   "execution_count": 6,
   "id": "5a33f3ae-bb9f-4915-b944-f8256c079716",
   "metadata": {},
   "outputs": [],
   "source": [
    "arr = np.array([1,2,3,4])"
   ]
  },
  {
   "cell_type": "code",
   "execution_count": 9,
   "id": "7de0c99b-3b71-4b85-9918-37d0cc7436ad",
   "metadata": {},
   "outputs": [
    {
     "name": "stdout",
     "output_type": "stream",
     "text": [
      "[1 2 3 4]\n",
      "<class 'numpy.ndarray'>\n"
     ]
    }
   ],
   "source": [
    "print(arr)\n",
    "print(type(arr))"
   ]
  },
  {
   "cell_type": "code",
   "execution_count": 10,
   "id": "39ad4eb2-ee71-47dc-9ea1-05713584736f",
   "metadata": {},
   "outputs": [
    {
     "name": "stdout",
     "output_type": "stream",
     "text": [
      "[1, 2, 3, 4]\n",
      "<class 'list'>\n"
     ]
    }
   ],
   "source": [
    "l = [1, 2, 3, 4]\n",
    "print(l)\n",
    "print(type(l))"
   ]
  },
  {
   "cell_type": "code",
   "execution_count": null,
   "id": "0c199afd-eb1d-4f6b-9531-accfe83eda99",
   "metadata": {},
   "outputs": [],
   "source": []
  },
  {
   "cell_type": "markdown",
   "id": "bb1a3ea7-e453-457c-935f-7b6e3e0e9aae",
   "metadata": {},
   "source": [
    "# Numpy Vs Python List"
   ]
  },
  {
   "cell_type": "markdown",
   "id": "6036322a-00fe-4507-a973-158994a7b18d",
   "metadata": {},
   "source": [
    "# Speed"
   ]
  },
  {
   "cell_type": "code",
   "execution_count": 11,
   "id": "d8e9a7f3-cf63-45d0-b821-abec17a6d892",
   "metadata": {},
   "outputs": [],
   "source": [
    "import time"
   ]
  },
  {
   "cell_type": "code",
   "execution_count": 12,
   "id": "5fb11364-93f4-418a-920c-924b10356a45",
   "metadata": {},
   "outputs": [
    {
     "name": "stdout",
     "output_type": "stream",
     "text": [
      "NumPy Time:  0.002199888229370117\n"
     ]
    }
   ],
   "source": [
    "#NumPy Array\n",
    "arr = np.arange(1000000) #[0 1 2 3 .... 1000000]\n",
    "start = time.time()\n",
    "arr = arr * 2\n",
    "print(\"NumPy Time: \", time.time() -  start)"
   ]
  },
  {
   "cell_type": "code",
   "execution_count": 14,
   "id": "878554fc-b677-47ca-b5f9-209949f87b0f",
   "metadata": {},
   "outputs": [
    {
     "name": "stdout",
     "output_type": "stream",
     "text": [
      "Python List Time:  0.03722500801086426\n"
     ]
    }
   ],
   "source": [
    "#Python List\n",
    "lst = list(range(1000000)) #[0 1 2 3 .... 1000000]\n",
    "start = time.time()\n",
    "lst = [x * 2 for x in lst]\n",
    "print(\"Python List Time: \", time.time() -  start)"
   ]
  },
  {
   "cell_type": "markdown",
   "id": "a3427728-78ef-430f-bf44-5728f8790e16",
   "metadata": {},
   "source": [
    "# Memory Efficiency"
   ]
  },
  {
   "cell_type": "code",
   "execution_count": 16,
   "id": "e9235025-07ed-43b0-90a6-f6357aa696f4",
   "metadata": {},
   "outputs": [],
   "source": [
    "import sys"
   ]
  },
  {
   "cell_type": "code",
   "execution_count": 17,
   "id": "087cbb43-1801-46b7-965e-ac59e5458210",
   "metadata": {},
   "outputs": [
    {
     "name": "stdout",
     "output_type": "stream",
     "text": [
      "Numpy Array Memory: 32 bytes\n"
     ]
    }
   ],
   "source": [
    "# NumPy Array\n",
    "arr = np.array([1, 2, 3, 4])\n",
    "print(\"Numpy Array Memory:\", arr.nbytes, \"bytes\")"
   ]
  },
  {
   "cell_type": "code",
   "execution_count": 18,
   "id": "b113a6b4-6f78-4934-95c2-27e33dd1a795",
   "metadata": {},
   "outputs": [
    {
     "name": "stdout",
     "output_type": "stream",
     "text": [
      "Python List Memory:  200 bytes\n"
     ]
    }
   ],
   "source": [
    "# Python List\n",
    "lst = [1, 2, 3, 4]\n",
    "print(\"Python List Memory: \", sys.getsizeof(lst) + sum(sys.getsizeof(x) for x in lst), \"bytes\")"
   ]
  },
  {
   "cell_type": "markdown",
   "id": "a40976d2-5fa8-4d1c-a939-e39710a6699d",
   "metadata": {},
   "source": [
    "# Type Consistency"
   ]
  },
  {
   "cell_type": "code",
   "execution_count": 19,
   "id": "13507a72-1555-4636-974f-f8f8f36b4e30",
   "metadata": {},
   "outputs": [],
   "source": [
    "lst = [1, 2, 3, 4, \"Mohit\"]"
   ]
  },
  {
   "cell_type": "code",
   "execution_count": 20,
   "id": "d1f4853b-f2b4-4594-b2a6-44aa34c370c2",
   "metadata": {},
   "outputs": [
    {
     "data": {
      "text/plain": [
       "[1, 2, 3, 4, 'Mohit']"
      ]
     },
     "execution_count": 20,
     "metadata": {},
     "output_type": "execute_result"
    }
   ],
   "source": [
    "lst"
   ]
  },
  {
   "cell_type": "code",
   "execution_count": 23,
   "id": "4eb3b07f-d26d-4604-9dd6-2bc8bd86183f",
   "metadata": {},
   "outputs": [],
   "source": [
    "arr = np.array([1, 2, 3, 4, \"Mohit\"])"
   ]
  },
  {
   "cell_type": "code",
   "execution_count": 24,
   "id": "2758a797-3c23-45be-8ae7-9dcbeac788e5",
   "metadata": {},
   "outputs": [
    {
     "data": {
      "text/plain": [
       "array(['1', '2', '3', '4', 'Mohit'], dtype='<U21')"
      ]
     },
     "execution_count": 24,
     "metadata": {},
     "output_type": "execute_result"
    }
   ],
   "source": [
    "arr"
   ]
  },
  {
   "cell_type": "markdown",
   "id": "ec826680-74e5-4ad6-b002-9c7098dc56fe",
   "metadata": {},
   "source": [
    "# Math Operation"
   ]
  },
  {
   "cell_type": "code",
   "execution_count": 36,
   "id": "b62ab0ea-0449-4089-8c44-d9bb032fc909",
   "metadata": {},
   "outputs": [
    {
     "name": "stdout",
     "output_type": "stream",
     "text": [
      "NumPy Sum: 10\n",
      "NumPy Mean: 2.5\n"
     ]
    }
   ],
   "source": [
    "#Numpy Array ()\n",
    "arr = np.array([1, 2, 3, 4])\n",
    "print(\"NumPy Sum:\", np.sum(arr))\n",
    "print(\"NumPy Mean:\", np.mean(arr))"
   ]
  },
  {
   "cell_type": "code",
   "execution_count": 37,
   "id": "341d5f2c-4996-4fa0-8902-1de9f48a15e5",
   "metadata": {},
   "outputs": [
    {
     "name": "stdout",
     "output_type": "stream",
     "text": [
      "939 ns ± 14.5 ns per loop (mean ± std. dev. of 7 runs, 1,000,000 loops each)\n"
     ]
    }
   ],
   "source": [
    "%timeit np.sum(arr)"
   ]
  },
  {
   "cell_type": "code",
   "execution_count": 33,
   "id": "97e6d455-d16f-45ac-b639-f206001039bf",
   "metadata": {},
   "outputs": [
    {
     "name": "stdout",
     "output_type": "stream",
     "text": [
      "Python Sum: 10\n",
      "Python Mean: 2.5\n"
     ]
    }
   ],
   "source": [
    "lst = [1, 2, 3, 4]\n",
    "print(\"Python Sum:\", sum(lst))\n",
    "print(\"Python Mean:\", sum(lst)/len(lst))"
   ]
  },
  {
   "cell_type": "code",
   "execution_count": 38,
   "id": "f2e1ed17-0e62-430e-8c77-3393d27e4e9b",
   "metadata": {},
   "outputs": [
    {
     "name": "stdout",
     "output_type": "stream",
     "text": [
      "30.6 ns ± 1.43 ns per loop (mean ± std. dev. of 7 runs, 10,000,000 loops each)\n"
     ]
    }
   ],
   "source": [
    "%timeit sum(lst)"
   ]
  },
  {
   "cell_type": "markdown",
   "id": "6cf6eea9-3b53-430d-8247-b50c527007f6",
   "metadata": {},
   "source": [
    "# ARRAY"
   ]
  },
  {
   "cell_type": "code",
   "execution_count": 40,
   "id": "1bbe0952-3158-4d69-9771-87ecf6d236cd",
   "metadata": {},
   "outputs": [
    {
     "name": "stdout",
     "output_type": "stream",
     "text": [
      "[1 2 3 4]\n",
      "<class 'numpy.ndarray'>\n",
      "[1 2 3 4 5]\n",
      "<class 'numpy.ndarray'>\n"
     ]
    }
   ],
   "source": [
    "x = [1, 2, 3 ,4]\n",
    "y = np.array(x)\n",
    "print(y)\n",
    "print(type(y))\n",
    "y = np.array([1, 2, 3, 4, 5])\n",
    "print(y)\n",
    "print(type(y))"
   ]
  },
  {
   "cell_type": "code",
   "execution_count": 41,
   "id": "558a05d3-a572-4a6f-9f97-6f61765fce6d",
   "metadata": {},
   "outputs": [
    {
     "name": "stdin",
     "output_type": "stream",
     "text": [
      "enter: 10\n",
      "enter: 11\n",
      "enter: 12\n",
      "enter: 13\n"
     ]
    },
    {
     "name": "stdout",
     "output_type": "stream",
     "text": [
      "[10 11 12 13]\n"
     ]
    }
   ],
   "source": [
    "l = []\n",
    "for i in range(1,5):\n",
    "    val = int(input(\"enter:\"))\n",
    "    l.append(val)\n",
    "\n",
    "print(np.array(l))"
   ]
  },
  {
   "cell_type": "markdown",
   "id": "c1330cde-21b5-41fe-97e8-10904042533d",
   "metadata": {},
   "source": [
    "# Dimension in Array\n",
    "- 1-D Array\n",
    "- 2-D Array\n",
    "- 3-D Array\n",
    "- Higher Dimensional Array"
   ]
  },
  {
   "cell_type": "code",
   "execution_count": 43,
   "id": "987e5aa4-19d2-491e-9904-503bf268cc5c",
   "metadata": {
    "scrolled": true
   },
   "outputs": [
    {
     "name": "stdout",
     "output_type": "stream",
     "text": [
      "1\n"
     ]
    }
   ],
   "source": [
    "x = [1, 2 ,3 ,4]\n",
    "y = np.array(x)\n",
    "print(y.ndim)"
   ]
  },
  {
   "cell_type": "code",
   "execution_count": 45,
   "id": "2f04096d-6ab7-43bf-af4d-46792517e3e9",
   "metadata": {},
   "outputs": [
    {
     "name": "stdout",
     "output_type": "stream",
     "text": [
      "[[1 2 3]\n",
      " [4 5 6]]\n",
      "2\n"
     ]
    }
   ],
   "source": [
    "# [1, 2, 3]\n",
    "# [4, 5, 6]\n",
    "ar2 = np.array([[1, 2, 3], [4, 5, 6]])\n",
    "print(ar2)\n",
    "print(ar2.ndim)"
   ]
  },
  {
   "cell_type": "code",
   "execution_count": 47,
   "id": "fd914fe1-718c-4d4b-9cd4-782cb1915524",
   "metadata": {},
   "outputs": [
    {
     "name": "stdout",
     "output_type": "stream",
     "text": [
      "[[[1 2 3]\n",
      "  [1 2 3]\n",
      "  [1 2 3]]]\n",
      "3\n"
     ]
    }
   ],
   "source": [
    "ar3 = np.array([[[1, 2, 3], [1, 2, 3], [1, 2, 3]]])\n",
    "print(ar3)\n",
    "print(ar3.ndim)"
   ]
  },
  {
   "cell_type": "code",
   "execution_count": 49,
   "id": "02f73660-b1e8-48a1-8169-8a970c1fa17e",
   "metadata": {},
   "outputs": [
    {
     "name": "stdout",
     "output_type": "stream",
     "text": [
      "[[[[[[[[[[1 2 3 4]]]]]]]]]]\n",
      "10\n"
     ]
    }
   ],
   "source": [
    "arn = np.array([1, 2, 3, 4], ndmin = 10)\n",
    "print(arn)\n",
    "print(arn.ndim)"
   ]
  },
  {
   "cell_type": "markdown",
   "id": "a260233f-f59b-414d-b862-82e6628a0d8f",
   "metadata": {},
   "source": [
    "# Special NumPy Array"
   ]
  },
  {
   "cell_type": "markdown",
   "id": "2d2d0341-d99a-40b8-8152-2c6aafa386f8",
   "metadata": {},
   "source": [
    "- Array Fill with 0's\n",
    "- Array Fill with 1's\n",
    "- Create an empty array (junk)\n",
    "- Range array\n",
    "- Array diagonal element filled with 1's\n",
    "- Create an array with values that are spaced lineraly in specified interval"
   ]
  },
  {
   "cell_type": "code",
   "execution_count": 57,
   "id": "88452fce-d18e-4157-90f9-365940140428",
   "metadata": {},
   "outputs": [
    {
     "name": "stdout",
     "output_type": "stream",
     "text": [
      "[[0. 0. 0. 0. 0. 0. 0. 0. 0. 0.]\n",
      " [0. 0. 0. 0. 0. 0. 0. 0. 0. 0.]\n",
      " [0. 0. 0. 0. 0. 0. 0. 0. 0. 0.]\n",
      " [0. 0. 0. 0. 0. 0. 0. 0. 0. 0.]\n",
      " [0. 0. 0. 0. 0. 0. 0. 0. 0. 0.]]\n"
     ]
    }
   ],
   "source": [
    "zeros_array = np.zeros((5, 10)) # 5 - Row, 10 - Col\n",
    "print(zeros_array)"
   ]
  },
  {
   "cell_type": "code",
   "execution_count": 56,
   "id": "3887fc0f-d1a6-44c8-b7fa-300c511231a4",
   "metadata": {},
   "outputs": [
    {
     "name": "stdout",
     "output_type": "stream",
     "text": [
      "[[1. 1. 1. 1. 1.]\n",
      " [1. 1. 1. 1. 1.]\n",
      " [1. 1. 1. 1. 1.]\n",
      " [1. 1. 1. 1. 1.]]\n"
     ]
    }
   ],
   "source": [
    "ones_array = np.ones((4, 5))\n",
    "print(ones_array)"
   ]
  },
  {
   "cell_type": "code",
   "execution_count": 67,
   "id": "64355a55-5c9f-4ad5-91fa-44578df78377",
   "metadata": {},
   "outputs": [
    {
     "name": "stdout",
     "output_type": "stream",
     "text": [
      "[[0. 0. 0. 0.]\n",
      " [0. 0. 0. 0.]\n",
      " [0. 0. 0. 0.]\n",
      " [0. 0. 0. 0.]]\n"
     ]
    }
   ],
   "source": [
    "empty = np.empty((4, 4))\n",
    "print(empty)"
   ]
  },
  {
   "cell_type": "code",
   "execution_count": 4,
   "id": "a84e1c15-b247-471f-a657-ea69ac206cd1",
   "metadata": {},
   "outputs": [
    {
     "name": "stdout",
     "output_type": "stream",
     "text": [
      "[0 1 2 3 4 5 6 7 8 9]\n"
     ]
    }
   ],
   "source": [
    "range_array = np.arange(0, 10, 1) # Start = 0 Stop = 10 Step = 2\n",
    "print(range_array)"
   ]
  },
  {
   "cell_type": "code",
   "execution_count": 8,
   "id": "c69b70f4-254e-4b91-8cb7-7922d9efcd27",
   "metadata": {},
   "outputs": [
    {
     "name": "stdout",
     "output_type": "stream",
     "text": [
      "[[1. 0. 0. 0. 0.]\n",
      " [0. 1. 0. 0. 0.]\n",
      " [0. 0. 1. 0. 0.]\n",
      " [0. 0. 0. 1. 0.]\n",
      " [0. 0. 0. 0. 1.]]\n"
     ]
    }
   ],
   "source": [
    "diagonal_array = np.eye(5, 5) # 3 X 3\n",
    "print(diagonal_array)\n"
   ]
  },
  {
   "cell_type": "code",
   "execution_count": 3,
   "id": "daf9f51f-f337-4cfa-98c9-0b6b699aeb76",
   "metadata": {},
   "outputs": [
    {
     "name": "stdout",
     "output_type": "stream",
     "text": [
      "[ 0.  4.  8. 12. 16. 20.]\n"
     ]
    }
   ],
   "source": [
    "linear_array = np.linspace(0, 20, 6) # Start = 0, Stop = 1, Number of point = 5\n",
    "print(linear_array)"
   ]
  },
  {
   "cell_type": "markdown",
   "id": "dbc5acac-2f89-4c23-85d7-c914852b81ba",
   "metadata": {},
   "source": [
    "# NumPy Random Number Function"
   ]
  },
  {
   "cell_type": "markdown",
   "id": "c77e7821-f486-4060-98b4-ee52b9210e65",
   "metadata": {},
   "source": [
    "# rand()"
   ]
  },
  {
   "cell_type": "code",
   "execution_count": 24,
   "id": "2516eb1d-e931-408f-8706-687773a0aecc",
   "metadata": {},
   "outputs": [
    {
     "name": "stdout",
     "output_type": "stream",
     "text": [
      "[0.45635767 0.98722992 0.75784921 0.41853613 0.2434861 ]\n",
      "-------\n",
      "[[0.08666031 0.28814108 0.12252612 0.99611969 0.07413143]\n",
      " [0.46269285 0.24553255 0.80401323 0.06790138 0.54717557]]\n"
     ]
    }
   ],
   "source": [
    "# [0, 1)\n",
    "# 1-D\n",
    "rand_array = np.random.rand(5)\n",
    "print(rand_array)\n",
    "print(\"-------\")\n",
    "rand_array = np.random.rand(2, 5)\n",
    "print(rand_array)"
   ]
  },
  {
   "cell_type": "markdown",
   "id": "27b9f9a5-a596-4348-a3f2-988e8b8b9040",
   "metadata": {},
   "source": [
    "# randn()"
   ]
  },
  {
   "cell_type": "code",
   "execution_count": 29,
   "id": "611ab166-a1b1-45a9-a1a2-1b43896f2799",
   "metadata": {},
   "outputs": [
    {
     "name": "stdout",
     "output_type": "stream",
     "text": [
      "[ 0.49067444  0.88204834  0.35152695 -1.0163074  -0.80175977]\n"
     ]
    }
   ],
   "source": [
    "# generate random values close to 0 and it can include negative value as well\n",
    "randn_array = np.random.randn(5)\n",
    "print(randn_array)"
   ]
  },
  {
   "cell_type": "markdown",
   "id": "3474504c-ed9d-41fb-a480-c69c7ca16041",
   "metadata": {},
   "source": [
    "# randint()"
   ]
  },
  {
   "cell_type": "code",
   "execution_count": 35,
   "id": "aae5c842-5af3-40a8-9ba8-8e0833629df1",
   "metadata": {},
   "outputs": [
    {
     "name": "stdout",
     "output_type": "stream",
     "text": [
      "[18 21 43 30 22 12 20 11 45 27]\n",
      "\n",
      "[[46 11 31]\n",
      " [25 42 45]\n",
      " [24 40 18]]\n"
     ]
    }
   ],
   "source": [
    "rand_int = np.random.randint(10, 50, 10)\n",
    "print(rand_int)\n",
    "print()\n",
    "rand_int = np.random.randint(10, 50, size=(3,3))\n",
    "print(rand_int)"
   ]
  },
  {
   "cell_type": "markdown",
   "id": "5793b105-1b4b-4b32-8527-ade78fe21021",
   "metadata": {},
   "source": [
    "# Data Type of NumPy Array"
   ]
  },
  {
   "cell_type": "raw",
   "id": "65acaf52-ba04-4618-b5bd-11a65dc902db",
   "metadata": {},
   "source": [
    "Numeric Data Type\n",
    "int8 -  char age of a person\n",
    "int16 - short\n",
    "int32 - int\n",
    "int64 - long\n",
    "uint8 - age of a person\n",
    "uint16\n",
    "uint32\n",
    "uint64\n",
    "float16\n",
    "float32 - float\n",
    "float64 - double\n",
    "complex64\n",
    "complex128"
   ]
  },
  {
   "cell_type": "code",
   "execution_count": 40,
   "id": "a45bb534-22ad-4810-9000-de4bbb112273",
   "metadata": {},
   "outputs": [
    {
     "name": "stdout",
     "output_type": "stream",
     "text": [
      "int32\n",
      "[1 2 3 4]\n"
     ]
    }
   ],
   "source": [
    "# Integer Data Type int32, int64\n",
    "int_array = np.array([1,2,3,4], dtype=np.int32) # Java Int\n",
    "print(int_array.dtype)\n",
    "print(int_array)"
   ]
  },
  {
   "cell_type": "code",
   "execution_count": 41,
   "id": "8401b11e-f451-40b7-8063-d7ec85896b7c",
   "metadata": {},
   "outputs": [
    {
     "name": "stdout",
     "output_type": "stream",
     "text": [
      "[1. 2. 3. 4.]\n"
     ]
    }
   ],
   "source": [
    "# Converting int to float\n",
    "float_array = int_array.astype(float)\n",
    "print(float_array)"
   ]
  },
  {
   "cell_type": "code",
   "execution_count": 45,
   "id": "b0e1ec9e-3ed8-48b7-a6da-1f212dd77907",
   "metadata": {},
   "outputs": [
    {
     "name": "stdout",
     "output_type": "stream",
     "text": [
      "float32\n",
      "[1.34 2.56 3.66 4.77]\n"
     ]
    }
   ],
   "source": [
    "# float32\n",
    "float_array = np.array([1.34,2.56,3.66,4.77], dtype=np.float32)\n",
    "print(float_array.dtype)\n",
    "print(float_array)"
   ]
  },
  {
   "cell_type": "code",
   "execution_count": 44,
   "id": "09b8cd95-fe98-43f0-8353-b81419ea1653",
   "metadata": {},
   "outputs": [
    {
     "name": "stdout",
     "output_type": "stream",
     "text": [
      "[1 2 3 4]\n"
     ]
    }
   ],
   "source": [
    "# Convert float to int\n",
    "int_array = float_array.astype(int)\n",
    "print(int_array)"
   ]
  },
  {
   "cell_type": "code",
   "execution_count": 47,
   "id": "1f7fc1cc-6595-48fb-902c-d09dd1971ba0",
   "metadata": {},
   "outputs": [
    {
     "name": "stdout",
     "output_type": "stream",
     "text": [
      "bool\n"
     ]
    }
   ],
   "source": [
    "# Boolean Data type\n",
    "bool_array = np.array([True, False, True], dtype='?')\n",
    "print(bool_array.dtype)"
   ]
  },
  {
   "cell_type": "code",
   "execution_count": 48,
   "id": "25d965be-8663-42a5-88d9-d0e2c8a362e9",
   "metadata": {},
   "outputs": [
    {
     "name": "stdout",
     "output_type": "stream",
     "text": [
      "[1 0 1]\n"
     ]
    }
   ],
   "source": [
    "# Convert Bool array to int\n",
    "int_array = bool_array.astype(int)\n",
    "print(int_array)"
   ]
  },
  {
   "cell_type": "code",
   "execution_count": 52,
   "id": "57a699a8-a0db-4ac5-a4fc-1e13e14a58af",
   "metadata": {},
   "outputs": [
    {
     "name": "stdout",
     "output_type": "stream",
     "text": [
      "|S5\n"
     ]
    }
   ],
   "source": [
    "# String\n",
    "# np.string_ why it not worked\n",
    "string_array = np.array([\"hello\", \"world\"], dtype='S')\n",
    "print(string_array.dtype)"
   ]
  },
  {
   "cell_type": "code",
   "execution_count": 55,
   "id": "e08a1b36-1a54-4816-a3f7-8d22f8275a96",
   "metadata": {},
   "outputs": [
    {
     "name": "stdout",
     "output_type": "stream",
     "text": [
      "complex64\n"
     ]
    }
   ],
   "source": [
    "#Complex Data type\n",
    "complex_array = np.array([1 + 2j, 3 + 4j], dtype=np.complex64)\n",
    "print(complex_array.dtype)"
   ]
  },
  {
   "cell_type": "code",
   "execution_count": 58,
   "id": "fc4dee98-76ef-4adc-adea-5071e2a08641",
   "metadata": {},
   "outputs": [
    {
     "name": "stdout",
     "output_type": "stream",
     "text": [
      "datetime64[D]\n"
     ]
    }
   ],
   "source": [
    "# Date\n",
    "date_array = np.array(['2024-01-01', '2024-02-01'], dtype=np.datetime64)\n",
    "print(date_array.dtype)"
   ]
  },
  {
   "cell_type": "markdown",
   "id": "2f06e359-5538-4af2-a2c6-bfce80c4996b",
   "metadata": {},
   "source": [
    "# NumPy Arithmetic Operation"
   ]
  },
  {
   "cell_type": "code",
   "execution_count": 59,
   "id": "6ce7366c-b816-4c7d-bb51-d66d8d5fac2f",
   "metadata": {},
   "outputs": [
    {
     "name": "stdout",
     "output_type": "stream",
     "text": [
      "[15 25 35 45 55]\n"
     ]
    }
   ],
   "source": [
    "# you want increasing the price of all items in a store by 5$\n",
    "price = np.array([10, 20, 30, 40, 50])\n",
    "price = price + 5\n",
    "print(price)"
   ]
  },
  {
   "cell_type": "code",
   "execution_count": 62,
   "id": "cb180964-c34b-4539-afb7-d9061d245a49",
   "metadata": {},
   "outputs": [
    {
     "name": "stdout",
     "output_type": "stream",
     "text": [
      "[250 450 650]\n"
     ]
    }
   ],
   "source": [
    "# You want to combine the sales from two region\n",
    "region_a_sales = np.array([100, 200, 300])\n",
    "region_b_sales = np.array([150, 250, 350])\n",
    "\n",
    "total_sales = region_a_sales + region_b_sales\n",
    "print(total_sales)"
   ]
  },
  {
   "cell_type": "code",
   "execution_count": 63,
   "id": "6bbe3f6b-ffe1-451d-be2a-64afccd449f4",
   "metadata": {},
   "outputs": [
    {
     "name": "stdout",
     "output_type": "stream",
     "text": [
      "[ 5 15 25 35 45]\n"
     ]
    }
   ],
   "source": [
    "# you want decrese the price of all items in a store by 5$\n",
    "price = np.array([10, 20, 30, 40, 50])\n",
    "price = price - 5\n",
    "print(price)"
   ]
  },
  {
   "cell_type": "code",
   "execution_count": 64,
   "id": "e4b4d86d-e97f-49e6-a751-8202e8a299b7",
   "metadata": {},
   "outputs": [
    {
     "name": "stdout",
     "output_type": "stream",
     "text": [
      "[50 50 50]\n"
     ]
    }
   ],
   "source": [
    "# You want to combine the sales from two region\n",
    "region_a_sales = np.array([100, 200, 300])\n",
    "region_b_sales = np.array([150, 250, 350])\n",
    "\n",
    "total_sales = region_b_sales - region_a_sales\n",
    "print(total_sales)"
   ]
  },
  {
   "cell_type": "code",
   "execution_count": 65,
   "id": "5afb6dec-37bb-49bc-a7c6-eee7ce023a4f",
   "metadata": {},
   "outputs": [
    {
     "name": "stdout",
     "output_type": "stream",
     "text": [
      "[10 50 15]\n"
     ]
    }
   ],
   "source": [
    "# Calculate the revenue for each product by multiply price and quantitly sold\n",
    "prices = np.array([5, 10, 15])\n",
    "quantities = np.array([2, 5, 1])\n",
    "revenue = prices * quantities\n",
    "print(revenue)"
   ]
  },
  {
   "cell_type": "code",
   "execution_count": 68,
   "id": "862fa5cb-2080-41f6-8c30-2c7d75a5caa5",
   "metadata": {},
   "outputs": [
    {
     "name": "stdout",
     "output_type": "stream",
     "text": [
      "[ 5. 10. 15.]\n"
     ]
    }
   ],
   "source": [
    "# Calculate the average price per item\n",
    "total_prices = np.array([10, 50, 15])\n",
    "quantities = np.array([2, 5, 1])\n",
    "average_price = total_prices / quantities\n",
    "print(average_price)"
   ]
  },
  {
   "cell_type": "code",
   "execution_count": 70,
   "id": "ea2fb5b3-3de7-4dd5-82a9-117e3dbcf78a",
   "metadata": {},
   "outputs": [
    {
     "name": "stdout",
     "output_type": "stream",
     "text": [
      "[ 77.  88.  99. 110.]\n"
     ]
    }
   ],
   "source": [
    "# You want to apply a multipler to all grade\n",
    "grade = np.array([70, 80, 90, 100])\n",
    "\n",
    "multiplier = 1.1\n",
    "cureved_grade = grade * multiplier\n",
    "print(cureved_grade)"
   ]
  },
  {
   "cell_type": "markdown",
   "id": "89b45e91-a37a-4b9f-800c-0d7199f9b494",
   "metadata": {},
   "source": [
    "# Numpy Arithmetic Function"
   ]
  },
  {
   "cell_type": "code",
   "execution_count": 4,
   "id": "e3b04e4a-47f0-428b-b6bf-34321645e810",
   "metadata": {},
   "outputs": [],
   "source": [
    "# Sum, Prod, cumsum, min, msx, mean, medium... etc"
   ]
  },
  {
   "cell_type": "code",
   "execution_count": 6,
   "id": "3abd6952-c8cf-4216-a035-792fac6e3f91",
   "metadata": {},
   "outputs": [
    {
     "name": "stdout",
     "output_type": "stream",
     "text": [
      "15\n"
     ]
    }
   ],
   "source": [
    "# Sum of elements\n",
    "arr = np.array([1,2,3,4,5])\n",
    "result = np.sum(arr)\n",
    "print(result)"
   ]
  },
  {
   "cell_type": "code",
   "execution_count": 7,
   "id": "1f3e6af7-641c-4498-8a44-f5d426a71969",
   "metadata": {},
   "outputs": [
    {
     "name": "stdout",
     "output_type": "stream",
     "text": [
      "120\n"
     ]
    }
   ],
   "source": [
    "# Product of elements\n",
    "prod = np.prod(arr)\n",
    "print(prod)"
   ]
  },
  {
   "cell_type": "code",
   "execution_count": 9,
   "id": "f6eac6d0-9d96-4acc-8d4e-7a7c85940b6d",
   "metadata": {},
   "outputs": [
    {
     "name": "stdout",
     "output_type": "stream",
     "text": [
      "[ 1  3  6 10 15]\n"
     ]
    }
   ],
   "source": [
    "# Cumulative Sum\n",
    "# [1,2,3,4,5] --> [1, 3, 6, 10, 15]\n",
    "cum_result = np.cumsum(arr)\n",
    "print(cum_result)"
   ]
  },
  {
   "cell_type": "code",
   "execution_count": 10,
   "id": "cbc0e62f-957a-4789-a9dc-8fa7afb6ccb9",
   "metadata": {},
   "outputs": [
    {
     "name": "stdout",
     "output_type": "stream",
     "text": [
      "[  1   2   6  24 120]\n"
     ]
    }
   ],
   "source": [
    "# Cumulative product\n",
    "cum_prod_result = np.cumprod(arr)\n",
    "print(cum_prod_result)"
   ]
  },
  {
   "cell_type": "code",
   "execution_count": 11,
   "id": "0999e6a5-5985-4784-98a2-5ee764bd0052",
   "metadata": {},
   "outputs": [
    {
     "name": "stdout",
     "output_type": "stream",
     "text": [
      "1\n"
     ]
    }
   ],
   "source": [
    "# Min\n",
    "min_val = np.min(arr)\n",
    "print(min_val)"
   ]
  },
  {
   "cell_type": "code",
   "execution_count": 12,
   "id": "aa94f594-fc77-45dd-812a-31d7886e70a7",
   "metadata": {},
   "outputs": [
    {
     "name": "stdout",
     "output_type": "stream",
     "text": [
      "5\n"
     ]
    }
   ],
   "source": [
    "# Max\n",
    "max_val = np.max(arr)\n",
    "print(max_val)"
   ]
  },
  {
   "cell_type": "code",
   "execution_count": 14,
   "id": "5c46b8a6-287d-4541-b1c8-4f9b903abe34",
   "metadata": {},
   "outputs": [
    {
     "name": "stdout",
     "output_type": "stream",
     "text": [
      "Max - Min: 4\n"
     ]
    }
   ],
   "source": [
    "# Range (ptp)\n",
    "result = np.ptp(arr)\n",
    "print(\"Max - Min:\", result)"
   ]
  },
  {
   "cell_type": "code",
   "execution_count": 15,
   "id": "1818da8e-1a7a-49dc-a746-b058e3107b08",
   "metadata": {},
   "outputs": [
    {
     "name": "stdout",
     "output_type": "stream",
     "text": [
      "0\n"
     ]
    }
   ],
   "source": [
    "# Min Index\n",
    "min_val_index = np.argmin(arr)\n",
    "print(min_val_index)"
   ]
  },
  {
   "cell_type": "code",
   "execution_count": 16,
   "id": "a8b4b6d3-f3d9-4398-96f7-7ed7205715ab",
   "metadata": {},
   "outputs": [
    {
     "name": "stdout",
     "output_type": "stream",
     "text": [
      "4\n"
     ]
    }
   ],
   "source": [
    "# Max Index\n",
    "max_val_index = np.argmax(arr)\n",
    "print(max_val_index)"
   ]
  },
  {
   "cell_type": "code",
   "execution_count": 17,
   "id": "60dd129c-3347-45a4-8aaa-1087555e4a96",
   "metadata": {},
   "outputs": [
    {
     "name": "stdout",
     "output_type": "stream",
     "text": [
      "3.0\n"
     ]
    }
   ],
   "source": [
    "# Pertentile\n",
    "# Find the 50th percentile (median)\n",
    "result = np.percentile(arr, 50)\n",
    "print(result)"
   ]
  },
  {
   "cell_type": "code",
   "execution_count": 19,
   "id": "dee9398e-7d4f-4906-9656-b08c4688038d",
   "metadata": {},
   "outputs": [
    {
     "name": "stdout",
     "output_type": "stream",
     "text": [
      "3.0\n"
     ]
    }
   ],
   "source": [
    "# Median\n",
    "result_median = np.median(arr)\n",
    "print(result_median)"
   ]
  },
  {
   "cell_type": "markdown",
   "id": "23886ea3-0b35-450e-9397-e63e0392329b",
   "metadata": {},
   "source": [
    "# Shape & Reshaping in Numpy Array\n",
    "\n",
    "- 1D shape (n, ) n = number of element\n",
    "- 2D shape (row, col)\n",
    "- 3D shape (depth, rows, column)"
   ]
  },
  {
   "cell_type": "code",
   "execution_count": 23,
   "id": "78f011ae-00e6-40f1-9ed5-4965ef93ead9",
   "metadata": {},
   "outputs": [
    {
     "name": "stdout",
     "output_type": "stream",
     "text": [
      "1\n",
      "(6,)\n"
     ]
    }
   ],
   "source": [
    "arr_1d = np.array([1,2,3,4,5,6])\n",
    "print(arr_1d.ndim)\n",
    "print(arr_1d.shape)"
   ]
  },
  {
   "cell_type": "code",
   "execution_count": 25,
   "id": "3cc692ac-1276-491c-9987-1dc2a8fa3919",
   "metadata": {},
   "outputs": [
    {
     "name": "stdout",
     "output_type": "stream",
     "text": [
      "(3, 2)\n"
     ]
    }
   ],
   "source": [
    "# [1,2]\n",
    "# [2,3]\n",
    "# [4,5]\n",
    "arr_2d = np.array([[1,2], [2,3], [4, 5]])\n",
    "print(arr_2d.shape)"
   ]
  },
  {
   "cell_type": "code",
   "execution_count": 27,
   "id": "4e673fdf-aa00-43da-9598-0da0bb9a1411",
   "metadata": {},
   "outputs": [
    {
     "name": "stdout",
     "output_type": "stream",
     "text": [
      "(2, 2, 2)\n"
     ]
    }
   ],
   "source": [
    "arr_3d = np.array([[[1, 2],[3,4]],[[4, 4],[5,5]]])\n",
    "print(arr_3d.shape)"
   ]
  },
  {
   "cell_type": "code",
   "execution_count": 52,
   "id": "740d8f1d-f41c-4cd4-8311-02878b2d56ad",
   "metadata": {},
   "outputs": [
    {
     "name": "stdout",
     "output_type": "stream",
     "text": [
      "[[1 2 3]\n",
      " [4 5 6]\n",
      " [7 8 9]]\n"
     ]
    }
   ],
   "source": [
    "arr_1d = np.array([1,2,3,4,5,6, 7, 8, 9])\n",
    "\n",
    "\"\"\" \n",
    "(3 X 2)\n",
    "1, 2\n",
    "3, 4\n",
    "5 ,6\n",
    "7 ,8\n",
    "9, ?\n",
    "\"\"\"\n",
    "reshap = arr_1d.reshape(3, 3)\n",
    "print(reshap)"
   ]
  },
  {
   "cell_type": "code",
   "execution_count": 54,
   "id": "c7a52b69-eeca-42b9-a34f-f9c6ac6fa410",
   "metadata": {},
   "outputs": [
    {
     "name": "stdout",
     "output_type": "stream",
     "text": [
      "[[1 2 3]\n",
      " [4 5 6]\n",
      " [7 8 9]]\n"
     ]
    }
   ],
   "source": [
    "auto_reshape = arr_1d.reshape(-1, 3)\n",
    "print(auto_reshape)"
   ]
  },
  {
   "cell_type": "code",
   "execution_count": 62,
   "id": "c0df400b-f625-4cc1-ab86-0bb011d398af",
   "metadata": {},
   "outputs": [
    {
     "name": "stdout",
     "output_type": "stream",
     "text": [
      "[[1 2 3]\n",
      " [4 5 6]]\n",
      "\n",
      "[1 2 3 4 5 6]\n",
      "[[1 2 3]\n",
      " [4 5 6]]\n"
     ]
    }
   ],
   "source": [
    "# Flat an array\n",
    "\"\"\"\n",
    "[[1 2 3]\n",
    " [4 5 6]]\n",
    "\"\"\"\n",
    "arr_2d = np.array([[1,2,3], [4,5,6]])\n",
    "print(arr_2d)\n",
    "print()\n",
    "flat_result = arr_2d.flatten()\n",
    "print(flat_result)\n",
    "\n",
    "squz = np.squeeze(arr_2d)\n",
    "print(squz)"
   ]
  },
  {
   "cell_type": "code",
   "execution_count": 49,
   "id": "ba60b960-b88e-430e-9307-3ed4855263eb",
   "metadata": {},
   "outputs": [
    {
     "name": "stdout",
     "output_type": "stream",
     "text": [
      "[[1 2 3 4 5 1 2 3 4 5]\n",
      " [1 2 3 4 5 1 2 3 4 5]\n",
      " [1 2 3 4 5 1 2 3 4 5]\n",
      " [1 2 3 4 5 1 2 3 4 5]\n",
      " [1 2 3 4 5 1 2 3 4 5]\n",
      " [1 2 3 4 5 1 2 3 4 5]\n",
      " [1 2 3 4 5 1 2 3 4 5]\n",
      " [1 2 3 4 5 1 2 3 4 5]\n",
      " [1 2 3 4 5 1 2 3 4 5]\n",
      " [1 2 3 4 5 1 2 3 4 5]]\n"
     ]
    }
   ],
   "source": [
    "# Resize of array\n",
    "arr_1d = np.array([1,2,3,4,5])\n",
    "resize = np.resize(arr_1d, (10, 10))\n",
    "print(resize)"
   ]
  },
  {
   "cell_type": "code",
   "execution_count": 56,
   "id": "cb6f14d3-a079-4261-986d-eecffbdb88ca",
   "metadata": {},
   "outputs": [
    {
     "name": "stdout",
     "output_type": "stream",
     "text": [
      "[[1 2 3]\n",
      " [4 5 6]]\n",
      "-----------\n",
      "[[1 4]\n",
      " [2 5]\n",
      " [3 6]]\n"
     ]
    }
   ],
   "source": [
    "# Transponse an array\n",
    "arr_2d = np.array([[1, 2, 3], [4, 5, 6]])\n",
    "print(arr_2d)\n",
    "print(\"-----------\")\n",
    "transponse = arr_2d.T\n",
    "print(transponse)"
   ]
  },
  {
   "cell_type": "code",
   "execution_count": 59,
   "id": "87ec2824-a86f-442d-9972-822d88b32c72",
   "metadata": {},
   "outputs": [
    {
     "name": "stdout",
     "output_type": "stream",
     "text": [
      "[1 2 3]\n",
      "[[1]\n",
      " [2]\n",
      " [3]]\n"
     ]
    }
   ],
   "source": [
    "# Adding a New Axis\n",
    "\" 1, 2, 3 \"\n",
    "\"\"\"\n",
    "(3 X 1)\n",
    "1\n",
    "2\n",
    "3\n",
    "\"\"\"\n",
    "arr_1d = np.array([1,2,3])\n",
    "print(arr_1d)\n",
    "expanded = arr_1d[:,np.newaxis]\n",
    "print(expanded)"
   ]
  },
  {
   "cell_type": "markdown",
   "id": "b81b7556-a374-428f-8985-925134bd7413",
   "metadata": {},
   "source": [
    "# Broadcasting in NumPy?\n",
    "\n",
    "# When Boroacasting works\n",
    " - Arrays have the same shape\n",
    " - Array have compitable shape (either both row/col are same or one of them is 1)\n",
    "\n",
    "```\n",
    "3 X 3 +  3 X 1   ===> 3 X 3\n",
    "-----    -----       --------\n",
    "1,2,3    1           2, 4 ,6\n",
    "4,5,6    2           5, 7, 8\n",
    "7,8,9    3           8, 10, 11\n",
    "\n",
    "```"
   ]
  },
  {
   "cell_type": "markdown",
   "id": "dedbe3e5-0920-46f5-9b6e-4bd98e328190",
   "metadata": {},
   "source": [
    "```\n",
    "  Array 1     Array 2    Result\n",
    " (3, 3)        (3, 3)     (3, 3)\n",
    " (3, 3)        (3, 1)     (3, 3)\n",
    " (3, 1)        (1, 3)     (3, 3)\n",
    " (3,)          (3, 3)     (3, 3)\n",
    " ```"
   ]
  },
  {
   "cell_type": "code",
   "execution_count": 1,
   "id": "94633820-ddcb-47be-ae99-79803ca57c7b",
   "metadata": {},
   "outputs": [],
   "source": [
    "import numpy as np"
   ]
  },
  {
   "cell_type": "code",
   "execution_count": 11,
   "id": "1b07e58b-17bb-4b42-bf2b-55e3268e073a",
   "metadata": {},
   "outputs": [
    {
     "name": "stdout",
     "output_type": "stream",
     "text": [
      "[1 2 3]\n",
      "[1 2 3]\n",
      "\n",
      "[[1 2 3]\n",
      " [4 5 6]]\n",
      "\n",
      "[[0 0 0]\n",
      " [3 3 3]]\n"
     ]
    }
   ],
   "source": [
    "arr1 = np.array([[1,2,3],[4,5,6]]) # (2, 3) 2 X 3\n",
    "arr2 = np.array([1, 2, 3]) # (1,)\n",
    "print(arr2)\n",
    "print(arr2)\n",
    "print()\n",
    "print(arr1)\n",
    "print()\n",
    "result = arr1 - arr2\n",
    "print(result)"
   ]
  },
  {
   "cell_type": "markdown",
   "id": "455ba0a6-a106-4400-ae09-c6be4c3292d8",
   "metadata": {},
   "source": [
    "# Index and Slicing in Array"
   ]
  },
  {
   "cell_type": "code",
   "execution_count": 15,
   "id": "79904cad-579e-4e7f-b775-d8be49724eb4",
   "metadata": {},
   "outputs": [
    {
     "name": "stdout",
     "output_type": "stream",
     "text": [
      "4\n",
      "5\n"
     ]
    }
   ],
   "source": [
    "arr = np.array([1,2,3,4,5])\n",
    "#               0,1,2,3,4\n",
    "#                     -2,-1\n",
    "print(arr[3])\n",
    "print(arr[-1])"
   ]
  },
  {
   "cell_type": "code",
   "execution_count": 16,
   "id": "33f058dc-488a-4623-a1b8-c0d93aafe292",
   "metadata": {},
   "outputs": [
    {
     "name": "stdout",
     "output_type": "stream",
     "text": [
      "[[1 2 3]\n",
      " [4 5 6]\n",
      " [7 8 9]]\n"
     ]
    }
   ],
   "source": [
    "# arr[row][col]\n",
    "arr_2d = np.array([[1,2,3], [4,5,6], [7,8,9]])\n",
    "print(arr_2d)"
   ]
  },
  {
   "cell_type": "code",
   "execution_count": 18,
   "id": "b15e5897-c00e-4f90-843f-866fbef27ab0",
   "metadata": {},
   "outputs": [
    {
     "name": "stdout",
     "output_type": "stream",
     "text": [
      "2\n",
      "6\n"
     ]
    }
   ],
   "source": [
    "print(arr_2d[0][1])\n",
    "print(arr_2d[1][2])"
   ]
  },
  {
   "cell_type": "code",
   "execution_count": 19,
   "id": "6eba3cc5-d380-49f9-8be7-bb4828393594",
   "metadata": {},
   "outputs": [
    {
     "data": {
      "text/plain": [
       "'\\narray[start:stop:step]\\n- start : Starting Index (default 0)\\n- stop: Ending Index (exclusive)\\n- step: Step size (default 1)\\n'"
      ]
     },
     "execution_count": 19,
     "metadata": {},
     "output_type": "execute_result"
    }
   ],
   "source": [
    "# Slicing\n",
    "\"\"\"\n",
    "array[start:stop:step]\n",
    "- start : Starting Index (default 0)\n",
    "- stop: Ending Index (exclusive)\n",
    "- step: Step size (default 1)\n",
    "\"\"\""
   ]
  },
  {
   "cell_type": "code",
   "execution_count": 26,
   "id": "e3214c88-8f50-4812-a41f-ff44e4acadce",
   "metadata": {},
   "outputs": [
    {
     "name": "stdout",
     "output_type": "stream",
     "text": [
      "[4 5 6]\n",
      "[2 3 4]\n",
      "[1 4]\n",
      "[1 2 3]\n",
      "[1 3 5]\n"
     ]
    }
   ],
   "source": [
    "# 1D Array Slice\n",
    "arr_1d = np.array([1,2,3,4,5,6])\n",
    "#                  0,1,2,3,4,5\n",
    "\n",
    "print(arr_1d[3:])\n",
    "print(arr_1d[1:4])\n",
    "print(arr_1d[::3])\n",
    "print(arr_1d[:3])\n",
    "print(arr_1d[0:5:2])"
   ]
  },
  {
   "cell_type": "code",
   "execution_count": 31,
   "id": "39407170-2e5a-4986-a30c-3b7c0b9ea340",
   "metadata": {},
   "outputs": [
    {
     "name": "stdout",
     "output_type": "stream",
     "text": [
      "[[2 3]\n",
      " [5 6]]\n",
      "[2 5 8]\n",
      "[7 8 9]\n"
     ]
    }
   ],
   "source": [
    "# 2D Array\n",
    "arr_2d = np.array([[1,2,3], [4,5,6], [7,8,9]])\n",
    "\"\"\"\n",
    "   0 1 2\n",
    "0 [1,2,3]\n",
    "1 [4,5,6]\n",
    "2 [7,8,9]\n",
    "\"\"\"\n",
    "# Slice Row and Column [0, 1] arr[row, col]\n",
    "print(arr_2d[0:2, 1:3])\n",
    "print(arr_2d[:, 1])\n",
    "print(arr_2d[2, :])"
   ]
  },
  {
   "cell_type": "code",
   "execution_count": 32,
   "id": "67fdd6fd-7388-498f-8e5d-2244c5dbd4cf",
   "metadata": {},
   "outputs": [
    {
     "name": "stdout",
     "output_type": "stream",
     "text": [
      "[[5 6]\n",
      " [8 9]]\n"
     ]
    }
   ],
   "source": [
    "print(arr_2d[-2:, -2:])"
   ]
  },
  {
   "cell_type": "code",
   "execution_count": 41,
   "id": "7e7323db-b862-4ba8-9df3-addfd4561760",
   "metadata": {},
   "outputs": [
    {
     "name": "stdout",
     "output_type": "stream",
     "text": [
      "[30 40 50]\n",
      "[30 40]\n"
     ]
    }
   ],
   "source": [
    "# Boolean Indexing\n",
    "arr_bool = np.array([10,20,30,40,50])\n",
    "print(arr_bool[arr_bool>25])\n",
    "print(arr_bool[(arr_bool > 25) & (arr_bool < 45)])"
   ]
  },
  {
   "cell_type": "code",
   "execution_count": 42,
   "id": "4e5a54c2-1907-4686-86ba-b921cafbaa5e",
   "metadata": {},
   "outputs": [
    {
     "name": "stdout",
     "output_type": "stream",
     "text": [
      "[10 30 50]\n"
     ]
    }
   ],
   "source": [
    "# Fancy Indexing\n",
    "arr_fancy = np.array([10,20,30,40,50])\n",
    "indices = [0 ,2, 4]\n",
    "print(arr_fancy[indices])"
   ]
  },
  {
   "cell_type": "code",
   "execution_count": 44,
   "id": "e646aa0d-e9ed-459c-858f-40052bb9ffac",
   "metadata": {},
   "outputs": [
    {
     "name": "stdout",
     "output_type": "stream",
     "text": [
      "[4 8 3]\n"
     ]
    }
   ],
   "source": [
    "arr_fancy_2d = np.array([[1,2,3], [4,5,6], [7,8,9]])\n",
    "rows = [1, 2, 0] # last two rows\n",
    "cols =  [0, 1, 2]\n",
    "print(arr_fancy_2d[rows, cols]) # arr_fancy_2d[1][0], arr_fancy_2d[2][1], arr_fancy_2d[0][2]"
   ]
  },
  {
   "cell_type": "code",
   "execution_count": 47,
   "id": "136b59d8-7e8f-4014-bb4e-76ed0bbf0286",
   "metadata": {},
   "outputs": [
    {
     "name": "stdout",
     "output_type": "stream",
     "text": [
      "[10 20 30 40 50]\n",
      "[50 40 30 20 10]\n"
     ]
    }
   ],
   "source": [
    "# Slice to reverse Array array[start:stop:end]\n",
    "arr = np.array([10,20,30,40,50])\n",
    "print(arr)\n",
    "print(arr[::-1])"
   ]
  },
  {
   "cell_type": "markdown",
   "id": "e5437668-310a-4143-8543-6021b6b3915a",
   "metadata": {},
   "source": [
    "# Numpay looping using nditer function"
   ]
  },
  {
   "cell_type": "code",
   "execution_count": 50,
   "id": "6906ca28-5d4f-47ca-af75-8ff82adcdf6e",
   "metadata": {},
   "outputs": [
    {
     "name": "stdout",
     "output_type": "stream",
     "text": [
      "10\n",
      "20\n",
      "30\n",
      "40\n",
      "50\n",
      "[10 20 30 40 50]\n"
     ]
    }
   ],
   "source": [
    "arr = np.array([10,20,30,40,50])\n",
    "for value in arr:\n",
    "    print(value)\n",
    "    value = 10\n",
    "print(arr)"
   ]
  },
  {
   "cell_type": "code",
   "execution_count": 49,
   "id": "fc0a0576-6044-46d3-b60a-9ecf605e6fc5",
   "metadata": {},
   "outputs": [
    {
     "name": "stdout",
     "output_type": "stream",
     "text": [
      "10\n",
      "20\n",
      "30\n",
      "40\n",
      "50\n"
     ]
    }
   ],
   "source": [
    "for value in np.nditer(arr):\n",
    "    print(value)"
   ]
  },
  {
   "cell_type": "code",
   "execution_count": 54,
   "id": "5d6beab1-0407-47b1-9f52-3068238b500f",
   "metadata": {},
   "outputs": [
    {
     "name": "stdout",
     "output_type": "stream",
     "text": [
      "[[1 2 3]\n",
      " [4 5 6]]\n",
      "1\n",
      "2\n",
      "3\n",
      "4\n",
      "5\n",
      "6\n",
      "---------\n",
      "1\n",
      "2\n",
      "3\n",
      "4\n",
      "5\n",
      "6\n"
     ]
    }
   ],
   "source": [
    "arr_2d = np.array([ [1,2,3], [4,5,6] ])\n",
    "print(arr_2d)\n",
    "for value in np.nditer(arr_2d):\n",
    "    print(value)\n",
    "print(\"---------\")\n",
    "for arr_1d in arr_2d:\n",
    "    for value in arr_1d:\n",
    "        print(value)"
   ]
  },
  {
   "cell_type": "code",
   "execution_count": 58,
   "id": "1e6ad36f-4471-4abf-992c-80d63b0ce302",
   "metadata": {},
   "outputs": [
    {
     "name": "stdout",
     "output_type": "stream",
     "text": [
      "[[1 2 3]\n",
      " [4 5 6]]\n",
      "\n",
      "[[ 2  4  6]\n",
      " [ 8 10 12]]\n"
     ]
    }
   ],
   "source": [
    "arr_2d = np.array([[1,2,3],[4,5,6] ])\n",
    "print(arr_2d)\n",
    "\n",
    "# Enable the write mode\n",
    "for element in np.nditer(arr_2d, op_flags=['readwrite']):\n",
    "    element[...] = element * 2 # Multiplu each element by 2 # ... denote the current index\n",
    "\n",
    "print()\n",
    "print(arr_2d)"
   ]
  },
  {
   "cell_type": "code",
   "execution_count": 1,
   "id": "c653dea6-ce64-444d-b058-cbf7562252e0",
   "metadata": {},
   "outputs": [
    {
     "ename": "NameError",
     "evalue": "name 'np' is not defined",
     "output_type": "error",
     "traceback": [
      "\u001b[0;31m---------------------------------------------------------------------------\u001b[0m",
      "\u001b[0;31mNameError\u001b[0m                                 Traceback (most recent call last)",
      "Cell \u001b[0;32mIn[1], line 2\u001b[0m\n\u001b[1;32m      1\u001b[0m \u001b[38;5;66;03m# How to diable safe check...\u001b[39;00m\n\u001b[0;32m----> 2\u001b[0m arr_float \u001b[38;5;241m=\u001b[39m \u001b[43mnp\u001b[49m\u001b[38;5;241m.\u001b[39marray([\u001b[38;5;241m1.5\u001b[39m, \u001b[38;5;241m2.7\u001b[39m, \u001b[38;5;241m3.5\u001b[39m])\n\u001b[1;32m      3\u001b[0m \u001b[38;5;28;01mfor\u001b[39;00m value \u001b[38;5;129;01min\u001b[39;00m np\u001b[38;5;241m.\u001b[39mnditer(arr_float, flags\u001b[38;5;241m=\u001b[39m[\u001b[38;5;124m'\u001b[39m\u001b[38;5;124mbuffered\u001b[39m\u001b[38;5;124m'\u001b[39m], op_dtypes\u001b[38;5;241m=\u001b[39m[\u001b[38;5;124m'\u001b[39m\u001b[38;5;124mint\u001b[39m\u001b[38;5;124m'\u001b[39m]):\n\u001b[1;32m      4\u001b[0m     \u001b[38;5;28mprint\u001b[39m(value)\n",
      "\u001b[0;31mNameError\u001b[0m: name 'np' is not defined"
     ]
    }
   ],
   "source": [
    "# How to diable safe check...\n",
    "arr_float = np.array([1.5, 2.7, 3.5])\n",
    "for value in np.nditer(arr_float, flags=['buffered'], op_dtypes=['int']):\n",
    "    print(value)"
   ]
  },
  {
   "cell_type": "markdown",
   "id": "e8766c0d-aa71-4950-b5fe-64ba6d7778d8",
   "metadata": {},
   "source": [
    "# Copy , View in Numpy"
   ]
  },
  {
   "cell_type": "code",
   "execution_count": 2,
   "id": "1b567a17-c698-4d4e-8953-4ce487e24ede",
   "metadata": {},
   "outputs": [],
   "source": [
    "# Copy (slow)\n",
    "# Create a new clone it's going to use more memory"
   ]
  },
  {
   "cell_type": "code",
   "execution_count": 3,
   "id": "544cd10c-4403-4a26-aab9-326ef7d92de5",
   "metadata": {},
   "outputs": [],
   "source": [
    "import numpy as np"
   ]
  },
  {
   "cell_type": "code",
   "execution_count": 6,
   "id": "e5c57e69-eb6c-4593-8d47-56c39da6c633",
   "metadata": {},
   "outputs": [
    {
     "name": "stdout",
     "output_type": "stream",
     "text": [
      "[99  2  3  4  5]\n",
      "[1 2 3 4 5]\n"
     ]
    }
   ],
   "source": [
    "arr_1d = np.array([1,2,3,4,5])\n",
    "\n",
    "arr_copy = arr_1d.copy()\n",
    "\n",
    "arr_1d[0] = 99\n",
    "\n",
    "print(arr_1d)\n",
    "print(arr_copy)"
   ]
  },
  {
   "cell_type": "code",
   "execution_count": 7,
   "id": "f46dd44c-fa7f-4971-9e65-4ebf7f712343",
   "metadata": {},
   "outputs": [],
   "source": [
    "# View (fast)\n",
    "# Create a view on the exisitng data"
   ]
  },
  {
   "cell_type": "code",
   "execution_count": 11,
   "id": "e5f222ad-ecaa-4a25-b1ce-7071ed27206f",
   "metadata": {},
   "outputs": [
    {
     "name": "stdout",
     "output_type": "stream",
     "text": [
      "[ 99   2   3   4 100]\n",
      "[ 99   2   3   4 100]\n"
     ]
    }
   ],
   "source": [
    "arr_1d = np.array([1,2,3,4,5])\n",
    "\n",
    "arr_view = arr_1d.view()\n",
    "\n",
    "arr_1d[0] = 99\n",
    "arr_view[-1] = 100\n",
    "\n",
    "print(arr_1d)\n",
    "print(arr_view)"
   ]
  },
  {
   "cell_type": "markdown",
   "id": "fa102e14-627b-4a30-8c22-1f97a8e07e60",
   "metadata": {},
   "source": [
    "# Joining & Spilling Array"
   ]
  },
  {
   "cell_type": "markdown",
   "id": "c79ee90b-a7c9-4526-a525-e697b155fb68",
   "metadata": {},
   "source": [
    "# axis\n",
    "```\n",
    "1-D\n",
    "[7, 8, 9,10]\n",
    "-----> axis 0\n",
    "\n",
    "2-D\n",
    "axis-0 (row)\n",
    "| [1,2,3]\n",
    "| [4,5,6]\n",
    "| [7,8,9]\n",
    "\\/\n",
    "------> axis-1 (col)\n",
    "```"
   ]
  },
  {
   "cell_type": "code",
   "execution_count": 16,
   "id": "628e00d9-d960-4acc-832f-23c19de30c0f",
   "metadata": {},
   "outputs": [
    {
     "name": "stdout",
     "output_type": "stream",
     "text": [
      "[1 2 3 4 5 6]\n"
     ]
    }
   ],
   "source": [
    "# Joining Array\n",
    "# Syntex: np.concatenate((arr1, arr2, arr3,....), axis=0)\n",
    "# [1,2,3] [4,5,6] => [1,2,3,4,5,6]\n",
    "\n",
    "arr1 = np.array([1,2,3])\n",
    "arr2 = np.array([4,5,6])\n",
    "\n",
    "result = np.concatenate((arr1, arr2))\n",
    "print(result)"
   ]
  },
  {
   "cell_type": "code",
   "execution_count": 18,
   "id": "98970cad-09ed-49c7-abd2-ec404aecda41",
   "metadata": {},
   "outputs": [
    {
     "name": "stdout",
     "output_type": "stream",
     "text": [
      "[[1 2]\n",
      " [3 4]\n",
      " [5 6]]\n"
     ]
    }
   ],
   "source": [
    "arr1 = np.array([[1,2], [3,4]])\n",
    "\"\"\"\n",
    "[1,2]\n",
    "[3,4]\n",
    "\"\"\"\n",
    "arr2 = np.array([[5,6]])\n",
    "\"\"\"\n",
    "[5,6]\n",
    "\"\"\"\n",
    "##########\n",
    "\"\"\"\n",
    "[1,2]\n",
    "[3,4]\n",
    "[5,6]\n",
    "\"\"\"\n",
    "result = np.concatenate((arr1, arr2), axis = 0)\n",
    "print(result)"
   ]
  },
  {
   "cell_type": "code",
   "execution_count": 21,
   "id": "98a664fc-4274-45ca-9c9d-5085cbbcc396",
   "metadata": {},
   "outputs": [
    {
     "name": "stdout",
     "output_type": "stream",
     "text": [
      "[[1 2 5]\n",
      " [3 4 6]]\n"
     ]
    }
   ],
   "source": [
    "\"\"\"\n",
    "[1,2] Join T([5, 6]) = [5]\n",
    "[3,4]                  [6]\n",
    "\"\"\"\n",
    "result = np.concatenate((arr1, arr2.T), axis = 1)\n",
    "print(result)"
   ]
  },
  {
   "cell_type": "code",
   "execution_count": 24,
   "id": "0b1d8488-fe46-4a9c-8e04-5ec5e5e9f637",
   "metadata": {},
   "outputs": [
    {
     "name": "stdout",
     "output_type": "stream",
     "text": [
      "[[1 2 3]\n",
      " [4 5 6]]\n"
     ]
    }
   ],
   "source": [
    "# Stack\n",
    "arr1 = np.array([1,2,3])\n",
    "arr2 = np.array([4,5,6])\n",
    "arr3 = np.array([7,8,9])\n",
    "\n",
    "result = np.stack((arr1, arr2)) # 2D Array\n",
    "print(result)"
   ]
  },
  {
   "cell_type": "code",
   "execution_count": 25,
   "id": "e811d30b-588f-4d85-a5d3-f935d5a4f319",
   "metadata": {},
   "outputs": [
    {
     "name": "stdout",
     "output_type": "stream",
     "text": [
      "[[1 4 7]\n",
      " [2 5 8]\n",
      " [3 6 9]]\n"
     ]
    }
   ],
   "source": [
    "result = np.stack((arr1, arr2, arr3), axis=1) # 2D Array\n",
    "print(result)"
   ]
  },
  {
   "cell_type": "code",
   "execution_count": 27,
   "id": "5862d864-ba7c-4329-b2ac-0dfa90be51f9",
   "metadata": {},
   "outputs": [
    {
     "name": "stdout",
     "output_type": "stream",
     "text": [
      "[array([1, 2, 3]), array([4, 5, 6])]\n"
     ]
    }
   ],
   "source": [
    "#Spilling Array\n",
    "\n",
    "arr = np.array([1,2,3,4,5,6])\n",
    "# Split into 3 parts\n",
    "result = np.array_split(arr, 2)\n",
    "print(result)"
   ]
  },
  {
   "cell_type": "code",
   "execution_count": 29,
   "id": "b1a61900-b607-45d2-a8e6-4941ffc0be64",
   "metadata": {},
   "outputs": [
    {
     "name": "stdout",
     "output_type": "stream",
     "text": [
      "[array([[1, 2],\n",
      "       [3, 4]]), array([[5, 6],\n",
      "       [7, 8]])]\n"
     ]
    }
   ],
   "source": [
    "arr = np.array([[1,2],[3,4],[5,6],[7,8]])\n",
    "\"\"\"\n",
    "1,2\n",
    "3,4\n",
    "5,6\n",
    "7,8\n",
    "\"\"\"\n",
    "# Split along row\n",
    "result = np.array_split(arr, 2, axis=0)\n",
    "print(result)"
   ]
  },
  {
   "cell_type": "code",
   "execution_count": 34,
   "id": "af7625b7-0af2-4583-a0e9-0eec4d02512b",
   "metadata": {},
   "outputs": [
    {
     "name": "stdout",
     "output_type": "stream",
     "text": [
      "[array([[1],\n",
      "       [3],\n",
      "       [5],\n",
      "       [7]]), array([[2],\n",
      "       [4],\n",
      "       [6],\n",
      "       [8]])]\n"
     ]
    }
   ],
   "source": [
    "# Split along col\n",
    "result = np.array_split(arr, 2, axis=1)\n",
    "print(result)"
   ]
  },
  {
   "cell_type": "markdown",
   "id": "2729c36d-9c9f-4af7-9287-bca82eedeb06",
   "metadata": {},
   "source": [
    "# Numpy Array Function"
   ]
  },
  {
   "cell_type": "code",
   "execution_count": 35,
   "id": "488a7b24-91de-4962-9543-4a6723d5f728",
   "metadata": {},
   "outputs": [],
   "source": [
    "# where()\n",
    "\n",
    "# np.where(condition, [x,y])\n",
    "# condtion: condition to filter data\n",
    "# X, Y (optional) replace the value of X where conditon is true else replace with Y"
   ]
  },
  {
   "cell_type": "code",
   "execution_count": 37,
   "id": "e6470fed-2ec3-42c5-9549-77df1d957fdf",
   "metadata": {},
   "outputs": [
    {
     "name": "stdout",
     "output_type": "stream",
     "text": [
      "(array([2, 3, 4]),)\n"
     ]
    }
   ],
   "source": [
    "arr = np.array([10,20,30,40,50])\n",
    "\n",
    "#Return the indices of the array\n",
    "indices = np.where(arr > 25)\n",
    "print(indices)"
   ]
  },
  {
   "cell_type": "code",
   "execution_count": 39,
   "id": "275fc520-ab82-4581-8aef-d98a25f3c7e3",
   "metadata": {},
   "outputs": [
    {
     "name": "stdout",
     "output_type": "stream",
     "text": [
      "[ 0  0 99 99 99]\n"
     ]
    }
   ],
   "source": [
    "# Replace the element > 25 with 99\n",
    "result = np.where(arr > 25, 99, 0)\n",
    "#[0,0,99,99,99]\n",
    "print(result)"
   ]
  },
  {
   "cell_type": "code",
   "execution_count": 40,
   "id": "84cb50c7-39f2-4e24-9ad4-5fd78b7f4178",
   "metadata": {},
   "outputs": [],
   "source": [
    "# searchsorted()\n",
    "# it work on sorted array\n",
    "\n",
    "# np.searchsorted(arr, value, side='left')"
   ]
  },
  {
   "cell_type": "code",
   "execution_count": 45,
   "id": "5199c826-1313-490a-a0da-820de00a0adc",
   "metadata": {},
   "outputs": [
    {
     "name": "stdout",
     "output_type": "stream",
     "text": [
      "2\n"
     ]
    }
   ],
   "source": [
    "arr = np.array([10,20,30,40,50])\n",
    "index = np.searchsorted(arr, 30)\n",
    "print(index)"
   ]
  },
  {
   "cell_type": "code",
   "execution_count": 49,
   "id": "8c6f83a7-7843-4a0c-9951-652c8fded213",
   "metadata": {
    "scrolled": true
   },
   "outputs": [
    {
     "name": "stdout",
     "output_type": "stream",
     "text": [
      "2\n",
      "3\n"
     ]
    }
   ],
   "source": [
    "# Where you can insert 25 in the array so sorted order is also maintain\n",
    "# [10,20,25,30,40,50]\n",
    "#  0, 1, 2\n",
    "index = np.searchsorted(arr, 20, side='right')\n",
    "print(index)\n",
    "\n",
    "index = np.searchsorted(arr, 35)\n",
    "print(index)"
   ]
  },
  {
   "cell_type": "code",
   "execution_count": 50,
   "id": "7af4f6e7-4225-4b65-adea-70a56a26bc06",
   "metadata": {},
   "outputs": [],
   "source": [
    "#sort()\n",
    "#Syntex: np.sort(array, axis=-1, kind='quicksort')  axis=-1 (denote the last axis)"
   ]
  },
  {
   "cell_type": "code",
   "execution_count": 51,
   "id": "166bcbc4-6afe-453c-a979-c0242b49ba4b",
   "metadata": {},
   "outputs": [
    {
     "name": "stdout",
     "output_type": "stream",
     "text": [
      "[ 7  9 12 44 45 56 66]\n"
     ]
    }
   ],
   "source": [
    "arr = np.array([45, 12, 44, 7, 9, 66, 56])\n",
    "sorted_arr = np.sort(arr)\n",
    "print(sorted_arr)"
   ]
  },
  {
   "cell_type": "code",
   "execution_count": 62,
   "id": "04ec06e5-3759-4f2c-a9be-31e7e3038f5b",
   "metadata": {},
   "outputs": [
    {
     "name": "stdout",
     "output_type": "stream",
     "text": [
      "[[30 40 20]\n",
      " [50 44 60]]\n",
      "\n",
      "[[20 30 44]\n",
      " [40 50 60]]\n"
     ]
    }
   ],
   "source": [
    "arr_2d = np.array([[30, 44, 20], [50, 40, 60]])\n",
    "\"\"\"\n",
    "30,44,20\n",
    "50,40,60\n",
    "\"\"\"\n",
    "sorted_arr_2d_col = np.sort(arr_2d, axis = 0) # Sort along row = 1, col = 0\n",
    "print(sorted_arr_2d_col)\n",
    "print()\n",
    "sorted_arr_2d_row = np.sort(arr_2d, axis = 1, kind='mergesort') # Sort along row = 1, col = 0\n",
    "print(sorted_arr_2d_row)"
   ]
  },
  {
   "cell_type": "code",
   "execution_count": 63,
   "id": "622026ad-1277-47aa-8928-46d963d4fc6b",
   "metadata": {},
   "outputs": [
    {
     "name": "stdout",
     "output_type": "stream",
     "text": [
      "[30 40 50 60]\n"
     ]
    }
   ],
   "source": [
    "# Filter Array (Boolean Masking)\n",
    "\n",
    "arr = np.array([10, 20, 30, 40, 50, 60])\n",
    "#               [False, False, True,  True, True]\n",
    "print(arr[arr > 25])"
   ]
  },
  {
   "cell_type": "code",
   "execution_count": 64,
   "id": "3b17f5de-eeaa-4adf-9478-4378e5e5a0bd",
   "metadata": {},
   "outputs": [
    {
     "name": "stdout",
     "output_type": "stream",
     "text": [
      "[10 60]\n"
     ]
    }
   ],
   "source": [
    "bool_array = [True, False, False, False, False, True]\n",
    "print(arr[bool_array])"
   ]
  },
  {
   "cell_type": "code",
   "execution_count": 65,
   "id": "4b78e633-9a23-40c6-aae0-c77b96260ca7",
   "metadata": {},
   "outputs": [
    {
     "name": "stdout",
     "output_type": "stream",
     "text": [
      "[30 40]\n"
     ]
    }
   ],
   "source": [
    "print(arr[(arr > 25) & (arr < 50)])"
   ]
  },
  {
   "cell_type": "code",
   "execution_count": 70,
   "id": "26c78d16-fd06-497e-b7fc-bc6e8cf39fd0",
   "metadata": {},
   "outputs": [
    {
     "name": "stdout",
     "output_type": "stream",
     "text": [
      "[10 20 30 40 50 60]\n",
      "\n",
      "[50 10 60 40 30 20]\n"
     ]
    }
   ],
   "source": [
    "#Shuffling\n",
    "\n",
    "arr = np.array([10, 20, 30, 40, 50, 60])\n",
    "print(arr)\n",
    "print()\n",
    "np.random.shuffle(arr)\n",
    "print(arr)"
   ]
  },
  {
   "cell_type": "code",
   "execution_count": 75,
   "id": "4a9818d7-500f-491d-9521-2d89fe8e845f",
   "metadata": {},
   "outputs": [
    {
     "name": "stdout",
     "output_type": "stream",
     "text": [
      "[[30 44 20]\n",
      " [50 40 60]]\n",
      "\n",
      "[[30 44 20]\n",
      " [50 40 60]]\n"
     ]
    }
   ],
   "source": [
    "arr_2d = np.array([[30, 44, 20], [50, 40, 60]])\n",
    "print(arr_2d)\n",
    "print()\n",
    "np.random.shuffle(arr_2d)\n",
    "print(arr_2d)"
   ]
  },
  {
   "cell_type": "code",
   "execution_count": 77,
   "id": "f93e92c8-3e74-4cba-83ce-f4d96a801f4c",
   "metadata": {},
   "outputs": [
    {
     "name": "stdout",
     "output_type": "stream",
     "text": [
      "[10 30 50 60]\n"
     ]
    }
   ],
   "source": [
    "# Unique values\n",
    "arr = np.array([10, 10, 30, 30, 50, 60])\n",
    "uniqe_element = np.unique(arr)\n",
    "print(uniqe_element)"
   ]
  },
  {
   "cell_type": "code",
   "execution_count": null,
   "id": "e0a41509-969f-4099-977d-a9c5fe02fd91",
   "metadata": {},
   "outputs": [],
   "source": []
  }
 ],
 "metadata": {
  "kernelspec": {
   "display_name": "Python 3 (ipykernel)",
   "language": "python",
   "name": "python3"
  },
  "language_info": {
   "codemirror_mode": {
    "name": "ipython",
    "version": 3
   },
   "file_extension": ".py",
   "mimetype": "text/x-python",
   "name": "python",
   "nbconvert_exporter": "python",
   "pygments_lexer": "ipython3",
   "version": "3.12.7"
  }
 },
 "nbformat": 4,
 "nbformat_minor": 5
}
