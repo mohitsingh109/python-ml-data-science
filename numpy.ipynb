{
 "cells": [
  {
   "cell_type": "markdown",
   "id": "c5a7e9e1-4ebe-4c62-bc5a-8575fe08c26e",
   "metadata": {},
   "source": [
    "# Numpy"
   ]
  },
  {
   "cell_type": "markdown",
   "id": "2ce565f2-de6b-480b-8f67-b5115ea8dbc5",
   "metadata": {},
   "source": [
    "# Numerical Python designed for numerical operation"
   ]
  },
  {
   "cell_type": "markdown",
   "id": "11f1d350-69b4-48d2-9309-314b6a8a67f7",
   "metadata": {},
   "source": [
    "- N - dimensionl Array\n",
    "- Math Operation\n",
    "- Broadcasting\n",
    "- Integrate with other liberary (pandas, Matploib, TensorFLow)\n",
    "- Effciency (Written in C language)\n",
    "- Memory Efficiency"
   ]
  },
  {
   "cell_type": "markdown",
   "id": "963a1f1b-d467-4898-b60e-320951e17fb1",
   "metadata": {},
   "source": [
    "# pip install numpy"
   ]
  },
  {
   "cell_type": "code",
   "execution_count": 2,
   "id": "2fc42101-b329-433c-b0d7-86ad2b5a43e1",
   "metadata": {},
   "outputs": [],
   "source": [
    "import numpy as np #(Shift + Enter)"
   ]
  },
  {
   "cell_type": "code",
   "execution_count": 6,
   "id": "5a33f3ae-bb9f-4915-b944-f8256c079716",
   "metadata": {},
   "outputs": [],
   "source": [
    "arr = np.array([1,2,3,4])"
   ]
  },
  {
   "cell_type": "code",
   "execution_count": 9,
   "id": "7de0c99b-3b71-4b85-9918-37d0cc7436ad",
   "metadata": {},
   "outputs": [
    {
     "name": "stdout",
     "output_type": "stream",
     "text": [
      "[1 2 3 4]\n",
      "<class 'numpy.ndarray'>\n"
     ]
    }
   ],
   "source": [
    "print(arr)\n",
    "print(type(arr))"
   ]
  },
  {
   "cell_type": "code",
   "execution_count": 10,
   "id": "39ad4eb2-ee71-47dc-9ea1-05713584736f",
   "metadata": {},
   "outputs": [
    {
     "name": "stdout",
     "output_type": "stream",
     "text": [
      "[1, 2, 3, 4]\n",
      "<class 'list'>\n"
     ]
    }
   ],
   "source": [
    "l = [1, 2, 3, 4]\n",
    "print(l)\n",
    "print(type(l))"
   ]
  },
  {
   "cell_type": "code",
   "execution_count": null,
   "id": "0c199afd-eb1d-4f6b-9531-accfe83eda99",
   "metadata": {},
   "outputs": [],
   "source": []
  },
  {
   "cell_type": "markdown",
   "id": "bb1a3ea7-e453-457c-935f-7b6e3e0e9aae",
   "metadata": {},
   "source": [
    "# Numpy Vs Python List"
   ]
  },
  {
   "cell_type": "markdown",
   "id": "6036322a-00fe-4507-a973-158994a7b18d",
   "metadata": {},
   "source": [
    "# Speed"
   ]
  },
  {
   "cell_type": "code",
   "execution_count": 11,
   "id": "d8e9a7f3-cf63-45d0-b821-abec17a6d892",
   "metadata": {},
   "outputs": [],
   "source": [
    "import time"
   ]
  },
  {
   "cell_type": "code",
   "execution_count": 12,
   "id": "5fb11364-93f4-418a-920c-924b10356a45",
   "metadata": {},
   "outputs": [
    {
     "name": "stdout",
     "output_type": "stream",
     "text": [
      "NumPy Time:  0.002199888229370117\n"
     ]
    }
   ],
   "source": [
    "#NumPy Array\n",
    "arr = np.arange(1000000) #[0 1 2 3 .... 1000000]\n",
    "start = time.time()\n",
    "arr = arr * 2\n",
    "print(\"NumPy Time: \", time.time() -  start)"
   ]
  },
  {
   "cell_type": "code",
   "execution_count": 14,
   "id": "878554fc-b677-47ca-b5f9-209949f87b0f",
   "metadata": {},
   "outputs": [
    {
     "name": "stdout",
     "output_type": "stream",
     "text": [
      "Python List Time:  0.03722500801086426\n"
     ]
    }
   ],
   "source": [
    "#Python List\n",
    "lst = list(range(1000000)) #[0 1 2 3 .... 1000000]\n",
    "start = time.time()\n",
    "lst = [x * 2 for x in lst]\n",
    "print(\"Python List Time: \", time.time() -  start)"
   ]
  },
  {
   "cell_type": "markdown",
   "id": "a3427728-78ef-430f-bf44-5728f8790e16",
   "metadata": {},
   "source": [
    "# Memory Efficiency"
   ]
  },
  {
   "cell_type": "code",
   "execution_count": 16,
   "id": "e9235025-07ed-43b0-90a6-f6357aa696f4",
   "metadata": {},
   "outputs": [],
   "source": [
    "import sys"
   ]
  },
  {
   "cell_type": "code",
   "execution_count": 17,
   "id": "087cbb43-1801-46b7-965e-ac59e5458210",
   "metadata": {},
   "outputs": [
    {
     "name": "stdout",
     "output_type": "stream",
     "text": [
      "Numpy Array Memory: 32 bytes\n"
     ]
    }
   ],
   "source": [
    "# NumPy Array\n",
    "arr = np.array([1, 2, 3, 4])\n",
    "print(\"Numpy Array Memory:\", arr.nbytes, \"bytes\")"
   ]
  },
  {
   "cell_type": "code",
   "execution_count": 18,
   "id": "b113a6b4-6f78-4934-95c2-27e33dd1a795",
   "metadata": {},
   "outputs": [
    {
     "name": "stdout",
     "output_type": "stream",
     "text": [
      "Python List Memory:  200 bytes\n"
     ]
    }
   ],
   "source": [
    "# Python List\n",
    "lst = [1, 2, 3, 4]\n",
    "print(\"Python List Memory: \", sys.getsizeof(lst) + sum(sys.getsizeof(x) for x in lst), \"bytes\")"
   ]
  },
  {
   "cell_type": "markdown",
   "id": "a40976d2-5fa8-4d1c-a939-e39710a6699d",
   "metadata": {},
   "source": [
    "# Type Consistency"
   ]
  },
  {
   "cell_type": "code",
   "execution_count": 19,
   "id": "13507a72-1555-4636-974f-f8f8f36b4e30",
   "metadata": {},
   "outputs": [],
   "source": [
    "lst = [1, 2, 3, 4, \"Mohit\"]"
   ]
  },
  {
   "cell_type": "code",
   "execution_count": 20,
   "id": "d1f4853b-f2b4-4594-b2a6-44aa34c370c2",
   "metadata": {},
   "outputs": [
    {
     "data": {
      "text/plain": [
       "[1, 2, 3, 4, 'Mohit']"
      ]
     },
     "execution_count": 20,
     "metadata": {},
     "output_type": "execute_result"
    }
   ],
   "source": [
    "lst"
   ]
  },
  {
   "cell_type": "code",
   "execution_count": 23,
   "id": "4eb3b07f-d26d-4604-9dd6-2bc8bd86183f",
   "metadata": {},
   "outputs": [],
   "source": [
    "arr = np.array([1, 2, 3, 4, \"Mohit\"])"
   ]
  },
  {
   "cell_type": "code",
   "execution_count": 24,
   "id": "2758a797-3c23-45be-8ae7-9dcbeac788e5",
   "metadata": {},
   "outputs": [
    {
     "data": {
      "text/plain": [
       "array(['1', '2', '3', '4', 'Mohit'], dtype='<U21')"
      ]
     },
     "execution_count": 24,
     "metadata": {},
     "output_type": "execute_result"
    }
   ],
   "source": [
    "arr"
   ]
  },
  {
   "cell_type": "markdown",
   "id": "ec826680-74e5-4ad6-b002-9c7098dc56fe",
   "metadata": {},
   "source": [
    "# Math Operation"
   ]
  },
  {
   "cell_type": "code",
   "execution_count": 36,
   "id": "b62ab0ea-0449-4089-8c44-d9bb032fc909",
   "metadata": {},
   "outputs": [
    {
     "name": "stdout",
     "output_type": "stream",
     "text": [
      "NumPy Sum: 10\n",
      "NumPy Mean: 2.5\n"
     ]
    }
   ],
   "source": [
    "#Numpy Array ()\n",
    "arr = np.array([1, 2, 3, 4])\n",
    "print(\"NumPy Sum:\", np.sum(arr))\n",
    "print(\"NumPy Mean:\", np.mean(arr))"
   ]
  },
  {
   "cell_type": "code",
   "execution_count": 37,
   "id": "341d5f2c-4996-4fa0-8902-1de9f48a15e5",
   "metadata": {},
   "outputs": [
    {
     "name": "stdout",
     "output_type": "stream",
     "text": [
      "939 ns ± 14.5 ns per loop (mean ± std. dev. of 7 runs, 1,000,000 loops each)\n"
     ]
    }
   ],
   "source": [
    "%timeit np.sum(arr)"
   ]
  },
  {
   "cell_type": "code",
   "execution_count": 33,
   "id": "97e6d455-d16f-45ac-b639-f206001039bf",
   "metadata": {},
   "outputs": [
    {
     "name": "stdout",
     "output_type": "stream",
     "text": [
      "Python Sum: 10\n",
      "Python Mean: 2.5\n"
     ]
    }
   ],
   "source": [
    "lst = [1, 2, 3, 4]\n",
    "print(\"Python Sum:\", sum(lst))\n",
    "print(\"Python Mean:\", sum(lst)/len(lst))"
   ]
  },
  {
   "cell_type": "code",
   "execution_count": 38,
   "id": "f2e1ed17-0e62-430e-8c77-3393d27e4e9b",
   "metadata": {},
   "outputs": [
    {
     "name": "stdout",
     "output_type": "stream",
     "text": [
      "30.6 ns ± 1.43 ns per loop (mean ± std. dev. of 7 runs, 10,000,000 loops each)\n"
     ]
    }
   ],
   "source": [
    "%timeit sum(lst)"
   ]
  },
  {
   "cell_type": "markdown",
   "id": "6cf6eea9-3b53-430d-8247-b50c527007f6",
   "metadata": {},
   "source": [
    "# ARRAY"
   ]
  },
  {
   "cell_type": "code",
   "execution_count": 40,
   "id": "1bbe0952-3158-4d69-9771-87ecf6d236cd",
   "metadata": {},
   "outputs": [
    {
     "name": "stdout",
     "output_type": "stream",
     "text": [
      "[1 2 3 4]\n",
      "<class 'numpy.ndarray'>\n",
      "[1 2 3 4 5]\n",
      "<class 'numpy.ndarray'>\n"
     ]
    }
   ],
   "source": [
    "x = [1, 2, 3 ,4]\n",
    "y = np.array(x)\n",
    "print(y)\n",
    "print(type(y))\n",
    "y = np.array([1, 2, 3, 4, 5])\n",
    "print(y)\n",
    "print(type(y))"
   ]
  },
  {
   "cell_type": "code",
   "execution_count": 41,
   "id": "558a05d3-a572-4a6f-9f97-6f61765fce6d",
   "metadata": {},
   "outputs": [
    {
     "name": "stdin",
     "output_type": "stream",
     "text": [
      "enter: 10\n",
      "enter: 11\n",
      "enter: 12\n",
      "enter: 13\n"
     ]
    },
    {
     "name": "stdout",
     "output_type": "stream",
     "text": [
      "[10 11 12 13]\n"
     ]
    }
   ],
   "source": [
    "l = []\n",
    "for i in range(1,5):\n",
    "    val = int(input(\"enter:\"))\n",
    "    l.append(val)\n",
    "\n",
    "print(np.array(l))"
   ]
  },
  {
   "cell_type": "markdown",
   "id": "c1330cde-21b5-41fe-97e8-10904042533d",
   "metadata": {},
   "source": [
    "# Dimension in Array\n",
    "- 1-D Array\n",
    "- 2-D Array\n",
    "- 3-D Array\n",
    "- Higher Dimensional Array"
   ]
  },
  {
   "cell_type": "code",
   "execution_count": 43,
   "id": "987e5aa4-19d2-491e-9904-503bf268cc5c",
   "metadata": {
    "scrolled": true
   },
   "outputs": [
    {
     "name": "stdout",
     "output_type": "stream",
     "text": [
      "1\n"
     ]
    }
   ],
   "source": [
    "x = [1, 2 ,3 ,4]\n",
    "y = np.array(x)\n",
    "print(y.ndim)"
   ]
  },
  {
   "cell_type": "code",
   "execution_count": 45,
   "id": "2f04096d-6ab7-43bf-af4d-46792517e3e9",
   "metadata": {},
   "outputs": [
    {
     "name": "stdout",
     "output_type": "stream",
     "text": [
      "[[1 2 3]\n",
      " [4 5 6]]\n",
      "2\n"
     ]
    }
   ],
   "source": [
    "ar2 = np.array([[1, 2, 3], [4, 5, 6]])\n",
    "print(ar2)\n",
    "print(ar2.ndim)"
   ]
  },
  {
   "cell_type": "code",
   "execution_count": 47,
   "id": "fd914fe1-718c-4d4b-9cd4-782cb1915524",
   "metadata": {},
   "outputs": [
    {
     "name": "stdout",
     "output_type": "stream",
     "text": [
      "[[[1 2 3]\n",
      "  [1 2 3]\n",
      "  [1 2 3]]]\n",
      "3\n"
     ]
    }
   ],
   "source": [
    "ar3 = np.array([[[1, 2, 3], [1, 2, 3], [1, 2, 3]]])\n",
    "print(ar3)\n",
    "print(ar3.ndim)"
   ]
  },
  {
   "cell_type": "code",
   "execution_count": 49,
   "id": "02f73660-b1e8-48a1-8169-8a970c1fa17e",
   "metadata": {},
   "outputs": [
    {
     "name": "stdout",
     "output_type": "stream",
     "text": [
      "[[[[[[[[[[1 2 3 4]]]]]]]]]]\n",
      "10\n"
     ]
    }
   ],
   "source": [
    "arn = np.array([1, 2, 3, 4], ndmin = 10)\n",
    "print(arn)\n",
    "print(arn.ndim)"
   ]
  },
  {
   "cell_type": "markdown",
   "id": "a260233f-f59b-414d-b862-82e6628a0d8f",
   "metadata": {},
   "source": [
    "# Special NumPy Array"
   ]
  },
  {
   "cell_type": "markdown",
   "id": "2d2d0341-d99a-40b8-8152-2c6aafa386f8",
   "metadata": {},
   "source": [
    "- Array Fill with 0's\n",
    "- Array Fill with 1's\n",
    "- Create an empty array (junk)\n",
    "- Range array\n",
    "- Array diagonal element filled with 1's\n",
    "- Create an array with values that are spaced lineraly in specified interval"
   ]
  },
  {
   "cell_type": "code",
   "execution_count": 57,
   "id": "88452fce-d18e-4157-90f9-365940140428",
   "metadata": {},
   "outputs": [
    {
     "name": "stdout",
     "output_type": "stream",
     "text": [
      "[[0. 0. 0. 0. 0. 0. 0. 0. 0. 0.]\n",
      " [0. 0. 0. 0. 0. 0. 0. 0. 0. 0.]\n",
      " [0. 0. 0. 0. 0. 0. 0. 0. 0. 0.]\n",
      " [0. 0. 0. 0. 0. 0. 0. 0. 0. 0.]\n",
      " [0. 0. 0. 0. 0. 0. 0. 0. 0. 0.]]\n"
     ]
    }
   ],
   "source": [
    "zeros_array = np.zeros((5, 10)) # 5 - Row, 10 - Col\n",
    "print(zeros_array)"
   ]
  },
  {
   "cell_type": "code",
   "execution_count": 56,
   "id": "3887fc0f-d1a6-44c8-b7fa-300c511231a4",
   "metadata": {},
   "outputs": [
    {
     "name": "stdout",
     "output_type": "stream",
     "text": [
      "[[1. 1. 1. 1. 1.]\n",
      " [1. 1. 1. 1. 1.]\n",
      " [1. 1. 1. 1. 1.]\n",
      " [1. 1. 1. 1. 1.]]\n"
     ]
    }
   ],
   "source": [
    "ones_array = np.ones((4, 5))\n",
    "print(ones_array)"
   ]
  },
  {
   "cell_type": "code",
   "execution_count": 67,
   "id": "64355a55-5c9f-4ad5-91fa-44578df78377",
   "metadata": {},
   "outputs": [
    {
     "name": "stdout",
     "output_type": "stream",
     "text": [
      "[[0. 0. 0. 0.]\n",
      " [0. 0. 0. 0.]\n",
      " [0. 0. 0. 0.]\n",
      " [0. 0. 0. 0.]]\n"
     ]
    }
   ],
   "source": [
    "empty = np.empty((4, 4))\n",
    "print(empty)"
   ]
  },
  {
   "cell_type": "code",
   "execution_count": 4,
   "id": "a84e1c15-b247-471f-a657-ea69ac206cd1",
   "metadata": {},
   "outputs": [
    {
     "name": "stdout",
     "output_type": "stream",
     "text": [
      "[0 1 2 3 4 5 6 7 8 9]\n"
     ]
    }
   ],
   "source": [
    "range_array = np.arange(0, 10, 1) # Start = 0 Stop = 10 Step = 2\n",
    "print(range_array)"
   ]
  },
  {
   "cell_type": "code",
   "execution_count": 8,
   "id": "c69b70f4-254e-4b91-8cb7-7922d9efcd27",
   "metadata": {},
   "outputs": [
    {
     "name": "stdout",
     "output_type": "stream",
     "text": [
      "[[1. 0. 0. 0. 0.]\n",
      " [0. 1. 0. 0. 0.]\n",
      " [0. 0. 1. 0. 0.]\n",
      " [0. 0. 0. 1. 0.]\n",
      " [0. 0. 0. 0. 1.]]\n"
     ]
    }
   ],
   "source": [
    "diagonal_array = np.eye(5, 5) # 3 X 3\n",
    "print(diagonal_array)\n"
   ]
  },
  {
   "cell_type": "code",
   "execution_count": 20,
   "id": "daf9f51f-f337-4cfa-98c9-0b6b699aeb76",
   "metadata": {},
   "outputs": [
    {
     "name": "stdout",
     "output_type": "stream",
     "text": [
      "[ 0.  5. 10. 15. 20.]\n"
     ]
    }
   ],
   "source": [
    "linear_array = np.linspace(0, 20, 5) # Start = 0, Stop = 1, Number of point = 5\n",
    "print(linear_array)"
   ]
  },
  {
   "cell_type": "markdown",
   "id": "dbc5acac-2f89-4c23-85d7-c914852b81ba",
   "metadata": {},
   "source": [
    "# NumPy Random Number Function"
   ]
  },
  {
   "cell_type": "markdown",
   "id": "c77e7821-f486-4060-98b4-ee52b9210e65",
   "metadata": {},
   "source": [
    "# rand()"
   ]
  },
  {
   "cell_type": "code",
   "execution_count": 24,
   "id": "2516eb1d-e931-408f-8706-687773a0aecc",
   "metadata": {},
   "outputs": [
    {
     "name": "stdout",
     "output_type": "stream",
     "text": [
      "[0.45635767 0.98722992 0.75784921 0.41853613 0.2434861 ]\n",
      "-------\n",
      "[[0.08666031 0.28814108 0.12252612 0.99611969 0.07413143]\n",
      " [0.46269285 0.24553255 0.80401323 0.06790138 0.54717557]]\n"
     ]
    }
   ],
   "source": [
    "# [0, 1)\n",
    "# 1-D\n",
    "rand_array = np.random.rand(5)\n",
    "print(rand_array)\n",
    "print(\"-------\")\n",
    "rand_array = np.random.rand(2, 5)\n",
    "print(rand_array)"
   ]
  },
  {
   "cell_type": "markdown",
   "id": "27b9f9a5-a596-4348-a3f2-988e8b8b9040",
   "metadata": {},
   "source": [
    "# randn()"
   ]
  },
  {
   "cell_type": "code",
   "execution_count": 29,
   "id": "611ab166-a1b1-45a9-a1a2-1b43896f2799",
   "metadata": {},
   "outputs": [
    {
     "name": "stdout",
     "output_type": "stream",
     "text": [
      "[ 0.49067444  0.88204834  0.35152695 -1.0163074  -0.80175977]\n"
     ]
    }
   ],
   "source": [
    "# generate random values close to 0 and it can include negative value as well\n",
    "randn_array = np.random.randn(5)\n",
    "print(randn_array)"
   ]
  },
  {
   "cell_type": "markdown",
   "id": "3474504c-ed9d-41fb-a480-c69c7ca16041",
   "metadata": {},
   "source": [
    "# randint()"
   ]
  },
  {
   "cell_type": "code",
   "execution_count": 35,
   "id": "aae5c842-5af3-40a8-9ba8-8e0833629df1",
   "metadata": {},
   "outputs": [
    {
     "name": "stdout",
     "output_type": "stream",
     "text": [
      "[18 21 43 30 22 12 20 11 45 27]\n",
      "\n",
      "[[46 11 31]\n",
      " [25 42 45]\n",
      " [24 40 18]]\n"
     ]
    }
   ],
   "source": [
    "rand_int = np.random.randint(10, 50, 10)\n",
    "print(rand_int)\n",
    "print()\n",
    "rand_int = np.random.randint(10, 50, size=(3,3))\n",
    "print(rand_int)"
   ]
  },
  {
   "cell_type": "markdown",
   "id": "5793b105-1b4b-4b32-8527-ade78fe21021",
   "metadata": {},
   "source": [
    "# Data Type of NumPy Array"
   ]
  },
  {
   "cell_type": "raw",
   "id": "65acaf52-ba04-4618-b5bd-11a65dc902db",
   "metadata": {},
   "source": [
    "Numeric Data Type\n",
    "int8 -  char age of a person\n",
    "int16 - short\n",
    "int32 - int\n",
    "int64 - long\n",
    "uint8 - age of a person\n",
    "uint16\n",
    "uint32\n",
    "uint64\n",
    "float16\n",
    "float32 - float\n",
    "float64 - double\n",
    "complex64\n",
    "complex128"
   ]
  },
  {
   "cell_type": "code",
   "execution_count": 40,
   "id": "a45bb534-22ad-4810-9000-de4bbb112273",
   "metadata": {},
   "outputs": [
    {
     "name": "stdout",
     "output_type": "stream",
     "text": [
      "int32\n",
      "[1 2 3 4]\n"
     ]
    }
   ],
   "source": [
    "# Integer Data Type int32, int64\n",
    "int_array = np.array([1,2,3,4], dtype=np.int32) # Java Int\n",
    "print(int_array.dtype)\n",
    "print(int_array)"
   ]
  },
  {
   "cell_type": "code",
   "execution_count": 41,
   "id": "8401b11e-f451-40b7-8063-d7ec85896b7c",
   "metadata": {},
   "outputs": [
    {
     "name": "stdout",
     "output_type": "stream",
     "text": [
      "[1. 2. 3. 4.]\n"
     ]
    }
   ],
   "source": [
    "# Converting int to float\n",
    "float_array = int_array.astype(float)\n",
    "print(float_array)"
   ]
  },
  {
   "cell_type": "code",
   "execution_count": 45,
   "id": "b0e1ec9e-3ed8-48b7-a6da-1f212dd77907",
   "metadata": {},
   "outputs": [
    {
     "name": "stdout",
     "output_type": "stream",
     "text": [
      "float32\n",
      "[1.34 2.56 3.66 4.77]\n"
     ]
    }
   ],
   "source": [
    "# float32\n",
    "float_array = np.array([1.34,2.56,3.66,4.77], dtype=np.float32)\n",
    "print(float_array.dtype)\n",
    "print(float_array)"
   ]
  },
  {
   "cell_type": "code",
   "execution_count": 44,
   "id": "09b8cd95-fe98-43f0-8353-b81419ea1653",
   "metadata": {},
   "outputs": [
    {
     "name": "stdout",
     "output_type": "stream",
     "text": [
      "[1 2 3 4]\n"
     ]
    }
   ],
   "source": [
    "# Convert float to int\n",
    "int_array = float_array.astype(int)\n",
    "print(int_array)"
   ]
  },
  {
   "cell_type": "code",
   "execution_count": 47,
   "id": "1f7fc1cc-6595-48fb-902c-d09dd1971ba0",
   "metadata": {},
   "outputs": [
    {
     "name": "stdout",
     "output_type": "stream",
     "text": [
      "bool\n"
     ]
    }
   ],
   "source": [
    "# Boolean Data type\n",
    "bool_array = np.array([True, False, True], dtype='?')\n",
    "print(bool_array.dtype)"
   ]
  },
  {
   "cell_type": "code",
   "execution_count": 48,
   "id": "25d965be-8663-42a5-88d9-d0e2c8a362e9",
   "metadata": {},
   "outputs": [
    {
     "name": "stdout",
     "output_type": "stream",
     "text": [
      "[1 0 1]\n"
     ]
    }
   ],
   "source": [
    "# Convert Bool array to int\n",
    "int_array = bool_array.astype(int)\n",
    "print(int_array)"
   ]
  },
  {
   "cell_type": "code",
   "execution_count": 52,
   "id": "57a699a8-a0db-4ac5-a4fc-1e13e14a58af",
   "metadata": {},
   "outputs": [
    {
     "name": "stdout",
     "output_type": "stream",
     "text": [
      "|S5\n"
     ]
    }
   ],
   "source": [
    "# String\n",
    "# np.string_ why it not worked\n",
    "string_array = np.array([\"hello\", \"world\"], dtype='S')\n",
    "print(string_array.dtype)"
   ]
  },
  {
   "cell_type": "code",
   "execution_count": 55,
   "id": "e08a1b36-1a54-4816-a3f7-8d22f8275a96",
   "metadata": {},
   "outputs": [
    {
     "name": "stdout",
     "output_type": "stream",
     "text": [
      "complex64\n"
     ]
    }
   ],
   "source": [
    "#Complex Data type\n",
    "complex_array = np.array([1 + 2j, 3 + 4j], dtype=np.complex64)\n",
    "print(complex_array.dtype)"
   ]
  },
  {
   "cell_type": "code",
   "execution_count": 58,
   "id": "fc4dee98-76ef-4adc-adea-5071e2a08641",
   "metadata": {},
   "outputs": [
    {
     "name": "stdout",
     "output_type": "stream",
     "text": [
      "datetime64[D]\n"
     ]
    }
   ],
   "source": [
    "# Date\n",
    "date_array = np.array(['2024-01-01', '2024-02-01'], dtype=np.datetime64)\n",
    "print(date_array.dtype)"
   ]
  },
  {
   "cell_type": "markdown",
   "id": "2f06e359-5538-4af2-a2c6-bfce80c4996b",
   "metadata": {},
   "source": [
    "# NumPy Arithmetic Operation"
   ]
  },
  {
   "cell_type": "code",
   "execution_count": 59,
   "id": "6ce7366c-b816-4c7d-bb51-d66d8d5fac2f",
   "metadata": {},
   "outputs": [
    {
     "name": "stdout",
     "output_type": "stream",
     "text": [
      "[15 25 35 45 55]\n"
     ]
    }
   ],
   "source": [
    "# you want increasing the price of all items in a store by 5$\n",
    "price = np.array([10, 20, 30, 40, 50])\n",
    "price = price + 5\n",
    "print(price)"
   ]
  },
  {
   "cell_type": "code",
   "execution_count": 62,
   "id": "cb180964-c34b-4539-afb7-d9061d245a49",
   "metadata": {},
   "outputs": [
    {
     "name": "stdout",
     "output_type": "stream",
     "text": [
      "[250 450 650]\n"
     ]
    }
   ],
   "source": [
    "# You want to combine the sales from two region\n",
    "region_a_sales = np.array([100, 200, 300])\n",
    "region_b_sales = np.array([150, 250, 350])\n",
    "\n",
    "total_sales = region_a_sales + region_b_sales\n",
    "print(total_sales)"
   ]
  },
  {
   "cell_type": "code",
   "execution_count": 63,
   "id": "6bbe3f6b-ffe1-451d-be2a-64afccd449f4",
   "metadata": {},
   "outputs": [
    {
     "name": "stdout",
     "output_type": "stream",
     "text": [
      "[ 5 15 25 35 45]\n"
     ]
    }
   ],
   "source": [
    "# you want decrese the price of all items in a store by 5$\n",
    "price = np.array([10, 20, 30, 40, 50])\n",
    "price = price - 5\n",
    "print(price)"
   ]
  },
  {
   "cell_type": "code",
   "execution_count": 64,
   "id": "e4b4d86d-e97f-49e6-a751-8202e8a299b7",
   "metadata": {},
   "outputs": [
    {
     "name": "stdout",
     "output_type": "stream",
     "text": [
      "[50 50 50]\n"
     ]
    }
   ],
   "source": [
    "# You want to combine the sales from two region\n",
    "region_a_sales = np.array([100, 200, 300])\n",
    "region_b_sales = np.array([150, 250, 350])\n",
    "\n",
    "total_sales = region_b_sales - region_a_sales\n",
    "print(total_sales)"
   ]
  },
  {
   "cell_type": "code",
   "execution_count": 65,
   "id": "5afb6dec-37bb-49bc-a7c6-eee7ce023a4f",
   "metadata": {},
   "outputs": [
    {
     "name": "stdout",
     "output_type": "stream",
     "text": [
      "[10 50 15]\n"
     ]
    }
   ],
   "source": [
    "# Calculate the revenue for each product by multiply price and quantitly sold\n",
    "prices = np.array([5, 10, 15])\n",
    "quantities = np.array([2, 5, 1])\n",
    "revenue = prices * quantities\n",
    "print(revenue)"
   ]
  },
  {
   "cell_type": "code",
   "execution_count": 68,
   "id": "862fa5cb-2080-41f6-8c30-2c7d75a5caa5",
   "metadata": {},
   "outputs": [
    {
     "name": "stdout",
     "output_type": "stream",
     "text": [
      "[ 5. 10. 15.]\n"
     ]
    }
   ],
   "source": [
    "# Calculate the average price per item\n",
    "total_prices = np.array([10, 50, 15])\n",
    "quantities = np.array([2, 5, 1])\n",
    "average_price = total_prices / quantities\n",
    "print(average_price)"
   ]
  },
  {
   "cell_type": "code",
   "execution_count": 70,
   "id": "ea2fb5b3-3de7-4dd5-82a9-117e3dbcf78a",
   "metadata": {},
   "outputs": [
    {
     "name": "stdout",
     "output_type": "stream",
     "text": [
      "[ 77.  88.  99. 110.]\n"
     ]
    }
   ],
   "source": [
    "# You want to apply a multipler to all grade\n",
    "grade = np.array([70, 80, 90, 100])\n",
    "\n",
    "multiplier = 1.1\n",
    "cureved_grade = grade * multiplier\n",
    "print(cureved_grade)"
   ]
  },
  {
   "cell_type": "code",
   "execution_count": null,
   "id": "b22fce89-5f30-4bdd-a7a9-79e381d433b2",
   "metadata": {},
   "outputs": [],
   "source": []
  }
 ],
 "metadata": {
  "kernelspec": {
   "display_name": "Python 3 (ipykernel)",
   "language": "python",
   "name": "python3"
  },
  "language_info": {
   "codemirror_mode": {
    "name": "ipython",
    "version": 3
   },
   "file_extension": ".py",
   "mimetype": "text/x-python",
   "name": "python",
   "nbconvert_exporter": "python",
   "pygments_lexer": "ipython3",
   "version": "3.12.7"
  }
 },
 "nbformat": 4,
 "nbformat_minor": 5
}
